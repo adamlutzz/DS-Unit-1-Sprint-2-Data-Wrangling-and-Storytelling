{
  "nbformat": 4,
  "nbformat_minor": 0,
  "metadata": {
    "colab": {
      "name": "LS_DS_123_Make_Explanatory_Visualizations.ipynb",
      "version": "0.3.2",
      "provenance": [],
      "collapsed_sections": [],
      "include_colab_link": true
    },
    "language_info": {
      "codemirror_mode": {
        "name": "ipython",
        "version": 3
      },
      "file_extension": ".py",
      "mimetype": "text/x-python",
      "name": "python",
      "nbconvert_exporter": "python",
      "pygments_lexer": "ipython3",
      "version": "3.7.1"
    },
    "kernelspec": {
      "display_name": "Python 3",
      "language": "python",
      "name": "python3"
    }
  },
  "cells": [
    {
      "cell_type": "markdown",
      "metadata": {
        "id": "view-in-github",
        "colab_type": "text"
      },
      "source": [
        "<a href=\"https://colab.research.google.com/github/adamlutzz/DS-Unit-1-Sprint-2-Data-Wrangling-and-Storytelling/blob/master/module3-make-explanatory-visualizations/LS_DS_123_Make_Explanatory_Visualizations.ipynb\" target=\"_parent\"><img src=\"https://colab.research.google.com/assets/colab-badge.svg\" alt=\"Open In Colab\"/></a>"
      ]
    },
    {
      "cell_type": "markdown",
      "metadata": {
        "colab_type": "text",
        "id": "-8-trVo__vRE"
      },
      "source": [
        "_Lambda School Data Science_\n",
        "\n",
        "# Make Explanatory Visualizations\n",
        "\n",
        "### Objectives\n",
        "\n",
        "- identify misleading visualizations and how to fix them\n",
        "- use Seaborn to visualize distributions and relationships with continuous and discrete variables\n",
        "- add emphasis and annotations to transform visualizations from exploratory to explanatory\n",
        "- remove clutter from visualizations\n",
        "\n",
        "### Links\n",
        "\n",
        "- [How to Spot Visualization Lies](https://flowingdata.com/2017/02/09/how-to-spot-visualization-lies/)\n",
        "- [Visual Vocabulary - Vega Edition](http://ft.com/vocabulary)\n",
        "- [Choosing a Python Visualization Tool flowchart](http://pbpython.com/python-vis-flowchart.html)\n",
        "- [Searborn example gallery](http://seaborn.pydata.org/examples/index.html) & [tutorial](http://seaborn.pydata.org/tutorial.html)\n",
        "- [Strong Titles Are The Biggest Bang for Your Buck](http://stephanieevergreen.com/strong-titles/)\n",
        "- [Remove to improve (the data-ink ratio)](https://www.darkhorseanalytics.com/blog/data-looks-better-naked)\n",
        "- [How to Generate FiveThirtyEight Graphs in Python](https://www.dataquest.io/blog/making-538-plots/)"
      ]
    },
    {
      "cell_type": "markdown",
      "metadata": {
        "id": "s-24T844-8qv",
        "colab_type": "text"
      },
      "source": [
        "# Avoid Misleading Visualizations\n",
        "\n",
        "Did you find/discuss any interesting misleading visualizations in your Walkie Talkie?"
      ]
    },
    {
      "cell_type": "markdown",
      "metadata": {
        "id": "Qzxt9ntsNjs0",
        "colab_type": "text"
      },
      "source": [
        "## What makes a visualization misleading?\n",
        "\n",
        "[5 Ways Writers Use Misleading Graphs To Manipulate You](https://venngage.com/blog/misleading-graphs/)"
      ]
    },
    {
      "cell_type": "markdown",
      "metadata": {
        "id": "q7_DUiENNvxk",
        "colab_type": "text"
      },
      "source": [
        "## Two y-axes\n",
        "\n",
        "<img src=\"https://kieranhealy.org/files/misc/two-y-by-four-sm.jpg\" width=\"800\">\n",
        " \n",
        " Other Examples: \n",
        " - [Spurious Correlations](https://tylervigen.com/spurious-correlations)\n",
        " - <https://blog.datawrapper.de/dualaxis/>\n",
        " - <https://kieranhealy.org/blog/archives/2016/01/16/two-y-axes/>\n",
        " - <http://www.storytellingwithdata.com/blog/2016/2/1/be-gone-dual-y-axis>"
      ]
    },
    {
      "cell_type": "markdown",
      "metadata": {
        "id": "oIijNBDMNv2k",
        "colab_type": "text"
      },
      "source": [
        "##  Y-axis doesn't start at zero.\n",
        "\n",
        "<img src=\"https://i.pinimg.com/originals/22/53/a9/2253a944f54bb61f1983bc076ff33cdd.jpg\" width=\"600\">"
      ]
    },
    {
      "cell_type": "markdown",
      "metadata": {
        "id": "ISB2p8vZNv6r",
        "colab_type": "text"
      },
      "source": [
        "## Pie Charts are bad\n",
        "\n",
        "<img src=\"https://i1.wp.com/flowingdata.com/wp-content/uploads/2009/11/Fox-News-pie-chart.png?fit=620%2C465&ssl=1\" width=\"600\">"
      ]
    },
    {
      "cell_type": "markdown",
      "metadata": {
        "id": "67CsAzu1NwBJ",
        "colab_type": "text"
      },
      "source": [
        "## Pie charts that omit data are extra bad\n",
        " \n",
        "- A guy makes a misleading chart that goes viral\n",
        "\n",
        " What does this chart imply at first glance? You don't want your user to have to do a lot of work in order to be able to interpret you graph correctly. You want that first-glance conclusions to be the correct ones.\n",
        "\n",
        " <img src=\"https://pbs.twimg.com/media/DiaiTLHWsAYAEEX?format=jpg&name=medium\" width='600'>\n",
        " \n",
        " <https://twitter.com/michaelbatnick/status/1019680856837849090?lang=en>\n",
        " \n",
        "- It gets picked up by overworked journalists (assuming incompetency before malice)\n",
        " \n",
        " <https://www.marketwatch.com/story/this-1-chart-puts-mega-techs-trillions-of-market-value-into-eye-popping-perspective-2018-07-18>\n",
        " \n",
        "- Even after the chart's implications have been refuted, it's hard a bad (although compelling) visualization from being passed around.\n",
        "\n",
        " <https://www.linkedin.com/pulse/good-bad-pie-charts-karthik-shashidhar/>\n",
        "\n",
        "**[\"yea I understand a pie chart was probably not the best choice to present this data.\"](https://twitter.com/michaelbatnick/status/1037036440494985216)**"
      ]
    },
    {
      "cell_type": "markdown",
      "metadata": {
        "id": "FYXmlToEOOTC",
        "colab_type": "text"
      },
      "source": [
        "## Pie Charts that compare unrelated things are next-level extra bad\n",
        "\n",
        "<img src=\"http://www.painting-with-numbers.com/download/document/186/170403+Legalizing+Marijuana+Graph.jpg\" width=\"600\">\n"
      ]
    },
    {
      "cell_type": "markdown",
      "metadata": {
        "id": "IwtMQpY_QFUw",
        "colab_type": "text"
      },
      "source": [
        "## Be careful about how you use volume to represent quantities:\n",
        "\n",
        "radius vs diameter vs volume\n",
        "\n",
        "<img src=\"https://static1.squarespace.com/static/5bfc8dbab40b9d7dd9054f41/t/5c32d86e0ebbe80a25873249/1546836082961/5474039-25383714-thumbnail.jpg?format=1500w\" width=\"600\">"
      ]
    },
    {
      "cell_type": "markdown",
      "metadata": {
        "id": "tTuAWjSBRsc7",
        "colab_type": "text"
      },
      "source": [
        "## Don't cherrypick timelines or specific subsets of your data:\n",
        "\n",
        "<img src=\"https://wattsupwiththat.com/wp-content/uploads/2019/02/Figure-1-1.png\" width=\"600\">\n",
        "\n",
        "Look how specifically the writer has selected what years to show in the legend on the right side.\n",
        "\n",
        "<https://wattsupwiththat.com/2019/02/24/strong-arctic-sea-ice-growth-this-year/>\n",
        "\n",
        "Try the tool that was used to make the graphic for yourself\n",
        "\n",
        "<http://nsidc.org/arcticseaicenews/charctic-interactive-sea-ice-graph/>\n",
        "                                                                                           "
      ]
    },
    {
      "cell_type": "markdown",
      "metadata": {
        "id": "Xs13S7p4Srme",
        "colab_type": "text"
      },
      "source": [
        "## Use Relative units rather than Absolute Units\n",
        "\n",
        "<img src=\"https://imgs.xkcd.com/comics/heatmap_2x.png\" width=\"600\">"
      ]
    },
    {
      "cell_type": "markdown",
      "metadata": {
        "id": "CIMt5OiuTlrr",
        "colab_type": "text"
      },
      "source": [
        "## Avoid 3D graphs unless having the extra dimension is effective\n",
        "\n",
        "Usually you can Split 3D graphs into multiple 2D graphs\n",
        "\n",
        "3D graphs that are interactive can be very cool. (See Plotly and Bokeh)\n",
        "\n",
        "<img src=\"https://thumbor.forbes.com/thumbor/1280x868/https%3A%2F%2Fblogs-images.forbes.com%2Fthumbnails%2Fblog_1855%2Fpt_1855_811_o.jpg%3Ft%3D1339592470\" width=\"600\">"
      ]
    },
    {
      "cell_type": "markdown",
      "metadata": {
        "id": "GATMu9IqUlIj",
        "colab_type": "text"
      },
      "source": [
        "## Don't go against typical conventions\n",
        "\n",
        "<img src=\"http://www.callingbullshit.org/twittercards/tools_misleading_axes.png\" width=\"600\">"
      ]
    },
    {
      "cell_type": "markdown",
      "metadata": {
        "id": "g6bKgZ0m_ynS",
        "colab_type": "text"
      },
      "source": [
        "# Tips for choosing an appropriate visualization:"
      ]
    },
    {
      "cell_type": "markdown",
      "metadata": {
        "id": "WtBsVnO4VHiJ",
        "colab_type": "text"
      },
      "source": [
        "## Use Appropriate \"Visual Vocabulary\"\n",
        "\n",
        "[Visual Vocabulary - Vega Edition](http://ft.com/vocabulary)"
      ]
    },
    {
      "cell_type": "markdown",
      "metadata": {
        "id": "H_QM9FHqVT7T",
        "colab_type": "text"
      },
      "source": [
        "## What are the properties of your data?\n",
        "- Is your primary variable of interest continuous or discrete?\n",
        "- Is in wide or long (tidy) format?\n",
        "- Does your visualization involve multiple variables?\n",
        "- How many dimensions do you need to include on your plot?\n",
        "\n",
        "Can you express the main idea of your visualization in a single sentence?\n",
        "\n",
        "How hard does your visualization make the user work in order to draw the intended conclusion?"
      ]
    },
    {
      "cell_type": "markdown",
      "metadata": {
        "id": "5EqXxnJeB89_",
        "colab_type": "text"
      },
      "source": [
        "## Which Visualization tool is most appropriate? \n",
        "\n",
        "[Choosing a Python Visualization Tool flowchart](http://pbpython.com/python-vis-flowchart.html)"
      ]
    },
    {
      "cell_type": "markdown",
      "metadata": {
        "id": "4mDuzLeNn23m",
        "colab_type": "text"
      },
      "source": [
        "## Anatomy of a Matplotlib Plot"
      ]
    },
    {
      "cell_type": "code",
      "metadata": {
        "id": "h-aIS1Vdn2RR",
        "colab_type": "code",
        "outputId": "4cd11fee-de43-4d70-c538-a0d1214e1550",
        "colab": {
          "base_uri": "https://localhost:8080/",
          "height": 555
        }
      },
      "source": [
        "import numpy as np\n",
        "import matplotlib.pyplot as plt\n",
        "from matplotlib.ticker import AutoMinorLocator, MultipleLocator, FuncFormatter\n",
        "\n",
        "np.random.seed(19680801)\n",
        "\n",
        "X = np.linspace(0.5, 3.5, 100)\n",
        "Y1 = 3+np.cos(X)\n",
        "Y2 = 1+np.cos(1+X/0.75)/2\n",
        "Y3 = np.random.uniform(Y1, Y2, len(X))\n",
        "\n",
        "fig = plt.figure(figsize=(8, 8))\n",
        "ax = fig.add_subplot(1, 1, 1, aspect=1)\n",
        "\n",
        "\n",
        "def minor_tick(x, pos):\n",
        "    if not x % 1.0:\n",
        "        return \"\"\n",
        "    return \"%.2f\" % x\n",
        "\n",
        "ax.xaxis.set_major_locator(MultipleLocator(1.000))\n",
        "ax.xaxis.set_minor_locator(AutoMinorLocator(4))\n",
        "ax.yaxis.set_major_locator(MultipleLocator(1.000))\n",
        "ax.yaxis.set_minor_locator(AutoMinorLocator(4))\n",
        "ax.xaxis.set_minor_formatter(FuncFormatter(minor_tick))\n",
        "\n",
        "ax.set_xlim(0, 4)\n",
        "ax.set_ylim(0, 4)\n",
        "\n",
        "ax.tick_params(which='major', width=1.0)\n",
        "ax.tick_params(which='major', length=10)\n",
        "ax.tick_params(which='minor', width=1.0, labelsize=10)\n",
        "ax.tick_params(which='minor', length=5, labelsize=10, labelcolor='0.25')\n",
        "\n",
        "ax.grid(linestyle=\"--\", linewidth=0.5, color='.25', zorder=-10)\n",
        "\n",
        "ax.plot(X, Y1, c=(0.25, 0.25, 1.00), lw=2, label=\"Blue signal\", zorder=10)\n",
        "ax.plot(X, Y2, c=(1.00, 0.25, 0.25), lw=2, label=\"Red signal\")\n",
        "ax.plot(X, Y3, linewidth=0,\n",
        "        marker='o', markerfacecolor='w', markeredgecolor='k')\n",
        "\n",
        "ax.set_title(\"Anatomy of a figure\", fontsize=20, verticalalignment='bottom')\n",
        "ax.set_xlabel(\"X axis label\")\n",
        "ax.set_ylabel(\"Y axis label\")\n",
        "\n",
        "ax.legend()\n",
        "\n",
        "\n",
        "def circle(x, y, radius=0.15):\n",
        "    from matplotlib.patches import Circle\n",
        "    from matplotlib.patheffects import withStroke\n",
        "    circle = Circle((x, y), radius, clip_on=False, zorder=10, linewidth=1,\n",
        "                    edgecolor='black', facecolor=(0, 0, 0, .0125),\n",
        "                    path_effects=[withStroke(linewidth=5, foreground='w')])\n",
        "    ax.add_artist(circle)\n",
        "\n",
        "\n",
        "def text(x, y, text):\n",
        "    ax.text(x, y, text, backgroundcolor=\"white\",\n",
        "            ha='center', va='top', weight='bold', color='blue')\n",
        "\n",
        "# Minor tick\n",
        "circle(0.50, -0.10)\n",
        "text(0.50, -0.32, \"Minor tick label\")\n",
        "\n",
        "# Major tick\n",
        "circle(-0.03, 4.00)\n",
        "text(0.03, 3.80, \"Major tick\")\n",
        "\n",
        "# Minor tick\n",
        "circle(0.00, 3.50)\n",
        "text(0.00, 3.30, \"Minor tick\")\n",
        "\n",
        "# Major tick label\n",
        "circle(-0.15, 3.00)\n",
        "text(-0.15, 2.80, \"Major tick label\")\n",
        "\n",
        "# X Label\n",
        "circle(1.80, -0.27)\n",
        "text(1.80, -0.45, \"X axis label\")\n",
        "\n",
        "# Y Label\n",
        "circle(-0.27, 1.80)\n",
        "text(-0.27, 1.6, \"Y axis label\")\n",
        "\n",
        "# Title\n",
        "circle(1.60, 4.13)\n",
        "text(1.60, 3.93, \"Title\")\n",
        "\n",
        "# Blue plot\n",
        "circle(1.75, 2.80)\n",
        "text(1.75, 2.60, \"Line\\n(line plot)\")\n",
        "\n",
        "# Red plot\n",
        "circle(1.20, 0.60)\n",
        "text(1.20, 0.40, \"Line\\n(line plot)\")\n",
        "\n",
        "# Scatter plot\n",
        "circle(3.20, 1.75)\n",
        "text(3.20, 1.55, \"Markers\\n(scatter plot)\")\n",
        "\n",
        "# Grid\n",
        "circle(3.00, 3.00)\n",
        "text(3.00, 2.80, \"Grid\")\n",
        "\n",
        "# Legend\n",
        "circle(3.70, 3.80)\n",
        "text(3.70, 3.60, \"Legend\")\n",
        "\n",
        "# Axes\n",
        "circle(0.5, 0.5)\n",
        "text(0.5, 0.3, \"Axes\")\n",
        "\n",
        "# Figure\n",
        "circle(-0.3, 0.65)\n",
        "text(-0.3, 0.45, \"Figure\")\n",
        "\n",
        "color = 'blue'\n",
        "ax.annotate('Spines', xy=(4.0, 0.35), xytext=(3.3, 0.5),\n",
        "            weight='bold', color=color,\n",
        "            arrowprops=dict(arrowstyle='->',\n",
        "                            connectionstyle=\"arc3\",\n",
        "                            color=color))\n",
        "\n",
        "ax.annotate('', xy=(3.15, 0.0), xytext=(3.45, 0.45),\n",
        "            weight='bold', color=color,\n",
        "            arrowprops=dict(arrowstyle='->',\n",
        "                            connectionstyle=\"arc3\",\n",
        "                            color=color))\n",
        "\n",
        "ax.text(4.0, -0.4, \"Made with http://matplotlib.org\",\n",
        "        fontsize=10, ha=\"right\", color='.5')\n",
        "\n",
        "plt.show()"
      ],
      "execution_count": 32,
      "outputs": [
        {
          "output_type": "display_data",
          "data": {
            "image/png": "[encoded data removed]",
            "text/plain": [
              "<Figure size 576x576 with 1 Axes>"
            ]
          },
          "metadata": {
            "tags": []
          }
        }
      ]
    },
    {
      "cell_type": "markdown",
      "metadata": {
        "id": "6t2yLMnNyYCd",
        "colab_type": "text"
      },
      "source": [
        "### Simple Web Scraper with IMDb"
      ]
    },
    {
      "cell_type": "code",
      "metadata": {
        "id": "U3YCIkC3ym1U",
        "colab_type": "code",
        "outputId": "86c634a4-74eb-44e9-9483-05f5ad7884ef",
        "colab": {
          "base_uri": "https://localhost:8080/",
          "height": 493
        }
      },
      "source": [
        "from requests import get\n",
        "\n",
        "url = 'https://www.imdb.com/title/tt6105098/ratings?ref_=tt_ov_rt'\n",
        "response = get(url)\n",
        "print(response.text[:500])"
      ],
      "execution_count": 33,
      "outputs": [
        {
          "output_type": "stream",
          "text": [
            "\n",
            "\n",
            "\n",
            "\n",
            "\n",
            "\n",
            "\n",
            "\n",
            "\n",
            "\n",
            "<!DOCTYPE html>\n",
            "<html\n",
            "    xmlns:og=\"http://ogp.me/ns#\"\n",
            "    xmlns:fb=\"http://www.facebook.com/2008/fbml\">\n",
            "    <head>\n",
            "         \n",
            "        <meta charset=\"utf-8\">\n",
            "        <meta http-equiv=\"X-UA-Compatible\" content=\"IE=edge\">\n",
            "\n",
            "    <meta name=\"apple-itunes-app\" content=\"app-id=342792525, app-argument=imdb:///title/tt6105098?src=mdot\">\n",
            "\n",
            "\n",
            "\n",
            "        <script type=\"text/javascript\">var IMDbTimer={starttime: new Date().getTime(),pt:'java'};</script>\n",
            "\n",
            "<script>\n",
            "    if (typeof uet == 'function') {\n",
            "     \n"
          ],
          "name": "stdout"
        }
      ]
    },
    {
      "cell_type": "code",
      "metadata": {
        "id": "jxwv6R8ozCY1",
        "colab_type": "code",
        "outputId": "5817848c-965e-42f0-c7b7-aa8fb5adb59c",
        "colab": {
          "base_uri": "https://localhost:8080/",
          "height": 34
        }
      },
      "source": [
        "from bs4 import BeautifulSoup\n",
        "\n",
        "html_soup = BeautifulSoup(response.text, 'html.parser')\n",
        "type(html_soup)"
      ],
      "execution_count": 34,
      "outputs": [
        {
          "output_type": "execute_result",
          "data": {
            "text/plain": [
              "bs4.BeautifulSoup"
            ]
          },
          "metadata": {
            "tags": []
          },
          "execution_count": 34
        }
      ]
    },
    {
      "cell_type": "code",
      "metadata": {
        "id": "yiRaYYlNzghb",
        "colab_type": "code",
        "outputId": "04bcb21b-4a3e-4fb5-b11c-7841387c8a35",
        "colab": {
          "base_uri": "https://localhost:8080/",
          "height": 187
        }
      },
      "source": [
        "vote_container = html_soup.find_all('div', class_ ='leftAligned')\n",
        "vote_container[1:11]"
      ],
      "execution_count": 35,
      "outputs": [
        {
          "output_type": "execute_result",
          "data": {
            "text/plain": [
              "[<div class=\"leftAligned\">10,695</div>,\n",
              " <div class=\"leftAligned\">6,858</div>,\n",
              " <div class=\"leftAligned\">12,577</div>,\n",
              " <div class=\"leftAligned\">13,414</div>,\n",
              " <div class=\"leftAligned\">7,163</div>,\n",
              " <div class=\"leftAligned\">3,298</div>,\n",
              " <div class=\"leftAligned\">1,528</div>,\n",
              " <div class=\"leftAligned\">1,029</div>,\n",
              " <div class=\"leftAligned\">779</div>,\n",
              " <div class=\"leftAligned\">2,624</div>]"
            ]
          },
          "metadata": {
            "tags": []
          },
          "execution_count": 35
        }
      ]
    },
    {
      "cell_type": "code",
      "metadata": {
        "id": "quA8tUsC0LhC",
        "colab_type": "code",
        "outputId": "a44f2e9f-ea51-43a4-be6a-fe9703022242",
        "colab": {
          "base_uri": "https://localhost:8080/",
          "height": 187
        }
      },
      "source": [
        "votes = [containers.text for containers in vote_container][1:11]\n",
        "votes"
      ],
      "execution_count": 36,
      "outputs": [
        {
          "output_type": "execute_result",
          "data": {
            "text/plain": [
              "['10,695',\n",
              " '6,858',\n",
              " '12,577',\n",
              " '13,414',\n",
              " '7,163',\n",
              " '3,298',\n",
              " '1,528',\n",
              " '1,029',\n",
              " '779',\n",
              " '2,624']"
            ]
          },
          "metadata": {
            "tags": []
          },
          "execution_count": 36
        }
      ]
    },
    {
      "cell_type": "code",
      "metadata": {
        "id": "43OVYQ_-0pPz",
        "colab_type": "code",
        "outputId": "f735d008-f517-46cb-8b1a-50cffb1443df",
        "colab": {
          "base_uri": "https://localhost:8080/",
          "height": 163
        }
      },
      "source": [
        "list(map(int, votes))"
      ],
      "execution_count": 37,
      "outputs": [
        {
          "output_type": "error",
          "ename": "ValueError",
          "evalue": "ignored",
          "traceback": [
            "\u001b[0;31m---------------------------------------------------------------------------\u001b[0m",
            "\u001b[0;31mValueError\u001b[0m                                Traceback (most recent call last)",
            "\u001b[0;32m<ipython-input-37-9191e27c8554>\u001b[0m in \u001b[0;36m<module>\u001b[0;34m()\u001b[0m\n\u001b[0;32m----> 1\u001b[0;31m \u001b[0mlist\u001b[0m\u001b[0;34m(\u001b[0m\u001b[0mmap\u001b[0m\u001b[0;34m(\u001b[0m\u001b[0mint\u001b[0m\u001b[0;34m,\u001b[0m \u001b[0mvotes\u001b[0m\u001b[0;34m)\u001b[0m\u001b[0;34m)\u001b[0m\u001b[0;34m\u001b[0m\u001b[0;34m\u001b[0m\u001b[0m\n\u001b[0m",
            "\u001b[0;31mValueError\u001b[0m: invalid literal for int() with base 10: '10,695'"
          ]
        }
      ]
    },
    {
      "cell_type": "code",
      "metadata": {
        "id": "Iu27apeQ1bVV",
        "colab_type": "code",
        "outputId": "5f5c30f3-1097-4f3b-c52e-4cf1849c4755",
        "colab": {
          "base_uri": "https://localhost:8080/",
          "height": 54
        }
      },
      "source": [
        "urls = ['https://www.imdb.com/title/tt6105098/ratings?ref_=tt_ov_rt',     # Lion King (2019)\n",
        "        'https://www.imdb.com/title/tt0110357/ratings?ref_=tt_ov_rt',     # Lion King (1994)\n",
        "        'https://www.imdb.com/title/tt6139732/ratings?ref_=tt_ov_rt',     # Aladdin (2019)\n",
        "        'https://www.imdb.com/title/tt0103639/ratings?ref_=tt_ov_rt']     # Aladdin (1992) w/ Robin Williams\n",
        "votes_list = []\n",
        "for url in urls:\n",
        "    # Get raw HTML response\n",
        "    response = get(url)\n",
        "    \n",
        "    # Convert to BS Object\n",
        "    html_soup = BeautifulSoup(response.text, 'html.parser')\n",
        "    \n",
        "    # Find vote containers and extract star ratings\n",
        "    vote_containers = html_soup.find_all('div', class_ = 'leftAligned')\n",
        "    votes = [containers.text for containers in vote_containers][1:11]\n",
        "    \n",
        "    \n",
        "    # Append to initial list\n",
        "    votes_list.append(votes)\n",
        "    \n",
        "print(votes_list)"
      ],
      "execution_count": 38,
      "outputs": [
        {
          "output_type": "stream",
          "text": [
            "[['10,695', '6,858', '12,577', '13,414', '7,163', '3,298', '1,528', '1,029', '779', '2,624'], ['254,677', '219,235', '213,602', '100,743', '33,087', '13,246', '5,344', '3,009', '1,969', '4,956'], ['14,796', '11,769', '22,720', '20,300', '8,615', '3,343', '1,511', '915', '666', '2,395'], ['58,911', '61,229', '111,136', '61,573', '20,592', '7,057', '2,593', '1,199', '689', '1,249']]\n"
          ],
          "name": "stdout"
        }
      ]
    },
    {
      "cell_type": "code",
      "metadata": {
        "id": "VmTb2bw11c_v",
        "colab_type": "code",
        "outputId": "d27d95d6-0752-40d4-fd33-6841ea68791c",
        "colab": {
          "base_uri": "https://localhost:8080/",
          "height": 359
        }
      },
      "source": [
        "import pandas as pd\n",
        "movies = ['The Lion King (2019)', 'The Lion King (1994)', 'Aladdin (2019)', 'Aladdin (1992)']\n",
        "df = pd.DataFrame(votes_list)\n",
        "df = df.T\n",
        "df.columns = movies\n",
        "df = df.apply(lambda x: x.str.replace(',',''))\n",
        "df['Star Rating'] = range(1,11)[::-1]\n",
        "df"
      ],
      "execution_count": 39,
      "outputs": [
        {
          "output_type": "execute_result",
          "data": {
            "text/html": [
              "<div>\n",
              "<style scoped>\n",
              "    .dataframe tbody tr th:only-of-type {\n",
              "        vertical-align: middle;\n",
              "    }\n",
              "\n",
              "    .dataframe tbody tr th {\n",
              "        vertical-align: top;\n",
              "    }\n",
              "\n",
              "    .dataframe thead th {\n",
              "        text-align: right;\n",
              "    }\n",
              "</style>\n",
              "<table border=\"1\" class=\"dataframe\">\n",
              "  <thead>\n",
              "    <tr style=\"text-align: right;\">\n",
              "      <th></th>\n",
              "      <th>The Lion King (2019)</th>\n",
              "      <th>The Lion King (1994)</th>\n",
              "      <th>Aladdin (2019)</th>\n",
              "      <th>Aladdin (1992)</th>\n",
              "      <th>Star Rating</th>\n",
              "    </tr>\n",
              "  </thead>\n",
              "  <tbody>\n",
              "    <tr>\n",
              "      <th>0</th>\n",
              "      <td>10695</td>\n",
              "      <td>254677</td>\n",
              "      <td>14796</td>\n",
              "      <td>58911</td>\n",
              "      <td>10</td>\n",
              "    </tr>\n",
              "    <tr>\n",
              "      <th>1</th>\n",
              "      <td>6858</td>\n",
              "      <td>219235</td>\n",
              "      <td>11769</td>\n",
              "      <td>61229</td>\n",
              "      <td>9</td>\n",
              "    </tr>\n",
              "    <tr>\n",
              "      <th>2</th>\n",
              "      <td>12577</td>\n",
              "      <td>213602</td>\n",
              "      <td>22720</td>\n",
              "      <td>111136</td>\n",
              "      <td>8</td>\n",
              "    </tr>\n",
              "    <tr>\n",
              "      <th>3</th>\n",
              "      <td>13414</td>\n",
              "      <td>100743</td>\n",
              "      <td>20300</td>\n",
              "      <td>61573</td>\n",
              "      <td>7</td>\n",
              "    </tr>\n",
              "    <tr>\n",
              "      <th>4</th>\n",
              "      <td>7163</td>\n",
              "      <td>33087</td>\n",
              "      <td>8615</td>\n",
              "      <td>20592</td>\n",
              "      <td>6</td>\n",
              "    </tr>\n",
              "    <tr>\n",
              "      <th>5</th>\n",
              "      <td>3298</td>\n",
              "      <td>13246</td>\n",
              "      <td>3343</td>\n",
              "      <td>7057</td>\n",
              "      <td>5</td>\n",
              "    </tr>\n",
              "    <tr>\n",
              "      <th>6</th>\n",
              "      <td>1528</td>\n",
              "      <td>5344</td>\n",
              "      <td>1511</td>\n",
              "      <td>2593</td>\n",
              "      <td>4</td>\n",
              "    </tr>\n",
              "    <tr>\n",
              "      <th>7</th>\n",
              "      <td>1029</td>\n",
              "      <td>3009</td>\n",
              "      <td>915</td>\n",
              "      <td>1199</td>\n",
              "      <td>3</td>\n",
              "    </tr>\n",
              "    <tr>\n",
              "      <th>8</th>\n",
              "      <td>779</td>\n",
              "      <td>1969</td>\n",
              "      <td>666</td>\n",
              "      <td>689</td>\n",
              "      <td>2</td>\n",
              "    </tr>\n",
              "    <tr>\n",
              "      <th>9</th>\n",
              "      <td>2624</td>\n",
              "      <td>4956</td>\n",
              "      <td>2395</td>\n",
              "      <td>1249</td>\n",
              "      <td>1</td>\n",
              "    </tr>\n",
              "  </tbody>\n",
              "</table>\n",
              "</div>"
            ],
            "text/plain": [
              "  The Lion King (2019) The Lion King (1994)  ... Aladdin (1992) Star Rating\n",
              "0                10695               254677  ...          58911          10\n",
              "1                 6858               219235  ...          61229           9\n",
              "2                12577               213602  ...         111136           8\n",
              "3                13414               100743  ...          61573           7\n",
              "4                 7163                33087  ...          20592           6\n",
              "5                 3298                13246  ...           7057           5\n",
              "6                 1528                 5344  ...           2593           4\n",
              "7                 1029                 3009  ...           1199           3\n",
              "8                  779                 1969  ...            689           2\n",
              "9                 2624                 4956  ...           1249           1\n",
              "\n",
              "[10 rows x 5 columns]"
            ]
          },
          "metadata": {
            "tags": []
          },
          "execution_count": 39
        }
      ]
    },
    {
      "cell_type": "code",
      "metadata": {
        "id": "NsPz-af311DA",
        "colab_type": "code",
        "outputId": "ffbd820c-8806-490c-ead5-e183a37a0b24",
        "colab": {
          "base_uri": "https://localhost:8080/",
          "height": 204
        }
      },
      "source": [
        "# Convert df into tidy format\n",
        "df_tidy = df.melt(id_vars='Star Rating')\n",
        "df_tidy = df_tidy.rename(columns={'variable': 'Movie', 'value': 'Number of Votes'})\n",
        "df_tidy['Number of Votes'] = pd.to_numeric(df_tidy['Number of Votes'])\n",
        "df_tidy.head()"
      ],
      "execution_count": 40,
      "outputs": [
        {
          "output_type": "execute_result",
          "data": {
            "text/html": [
              "<div>\n",
              "<style scoped>\n",
              "    .dataframe tbody tr th:only-of-type {\n",
              "        vertical-align: middle;\n",
              "    }\n",
              "\n",
              "    .dataframe tbody tr th {\n",
              "        vertical-align: top;\n",
              "    }\n",
              "\n",
              "    .dataframe thead th {\n",
              "        text-align: right;\n",
              "    }\n",
              "</style>\n",
              "<table border=\"1\" class=\"dataframe\">\n",
              "  <thead>\n",
              "    <tr style=\"text-align: right;\">\n",
              "      <th></th>\n",
              "      <th>Star Rating</th>\n",
              "      <th>Movie</th>\n",
              "      <th>Number of Votes</th>\n",
              "    </tr>\n",
              "  </thead>\n",
              "  <tbody>\n",
              "    <tr>\n",
              "      <th>0</th>\n",
              "      <td>10</td>\n",
              "      <td>The Lion King (2019)</td>\n",
              "      <td>10695</td>\n",
              "    </tr>\n",
              "    <tr>\n",
              "      <th>1</th>\n",
              "      <td>9</td>\n",
              "      <td>The Lion King (2019)</td>\n",
              "      <td>6858</td>\n",
              "    </tr>\n",
              "    <tr>\n",
              "      <th>2</th>\n",
              "      <td>8</td>\n",
              "      <td>The Lion King (2019)</td>\n",
              "      <td>12577</td>\n",
              "    </tr>\n",
              "    <tr>\n",
              "      <th>3</th>\n",
              "      <td>7</td>\n",
              "      <td>The Lion King (2019)</td>\n",
              "      <td>13414</td>\n",
              "    </tr>\n",
              "    <tr>\n",
              "      <th>4</th>\n",
              "      <td>6</td>\n",
              "      <td>The Lion King (2019)</td>\n",
              "      <td>7163</td>\n",
              "    </tr>\n",
              "  </tbody>\n",
              "</table>\n",
              "</div>"
            ],
            "text/plain": [
              "   Star Rating                 Movie  Number of Votes\n",
              "0           10  The Lion King (2019)            10695\n",
              "1            9  The Lion King (2019)             6858\n",
              "2            8  The Lion King (2019)            12577\n",
              "3            7  The Lion King (2019)            13414\n",
              "4            6  The Lion King (2019)             7163"
            ]
          },
          "metadata": {
            "tags": []
          },
          "execution_count": 40
        }
      ]
    },
    {
      "cell_type": "code",
      "metadata": {
        "id": "Ewg2gQUg4C_F",
        "colab_type": "code",
        "outputId": "54cd5787-f0a8-47cb-a2a3-d9793548c302",
        "colab": {
          "base_uri": "https://localhost:8080/",
          "height": 669
        }
      },
      "source": [
        "df_tidy['Vote Percent'] = df_tidy.groupby('Movie')['Number of Votes'].apply(lambda x: x / x.sum() * 100)\n",
        "df_tidy.head(20)"
      ],
      "execution_count": 58,
      "outputs": [
        {
          "output_type": "execute_result",
          "data": {
            "text/html": [
              "<div>\n",
              "<style scoped>\n",
              "    .dataframe tbody tr th:only-of-type {\n",
              "        vertical-align: middle;\n",
              "    }\n",
              "\n",
              "    .dataframe tbody tr th {\n",
              "        vertical-align: top;\n",
              "    }\n",
              "\n",
              "    .dataframe thead th {\n",
              "        text-align: right;\n",
              "    }\n",
              "</style>\n",
              "<table border=\"1\" class=\"dataframe\">\n",
              "  <thead>\n",
              "    <tr style=\"text-align: right;\">\n",
              "      <th></th>\n",
              "      <th>Star Rating</th>\n",
              "      <th>Movie</th>\n",
              "      <th>Number of Votes</th>\n",
              "      <th>Vote Percent</th>\n",
              "    </tr>\n",
              "  </thead>\n",
              "  <tbody>\n",
              "    <tr>\n",
              "      <th>0</th>\n",
              "      <td>10</td>\n",
              "      <td>The Lion King (2019)</td>\n",
              "      <td>10695</td>\n",
              "      <td>17.835404</td>\n",
              "    </tr>\n",
              "    <tr>\n",
              "      <th>1</th>\n",
              "      <td>9</td>\n",
              "      <td>The Lion King (2019)</td>\n",
              "      <td>6858</td>\n",
              "      <td>11.436671</td>\n",
              "    </tr>\n",
              "    <tr>\n",
              "      <th>2</th>\n",
              "      <td>8</td>\n",
              "      <td>The Lion King (2019)</td>\n",
              "      <td>12577</td>\n",
              "      <td>20.973901</td>\n",
              "    </tr>\n",
              "    <tr>\n",
              "      <th>3</th>\n",
              "      <td>7</td>\n",
              "      <td>The Lion King (2019)</td>\n",
              "      <td>13414</td>\n",
              "      <td>22.369716</td>\n",
              "    </tr>\n",
              "    <tr>\n",
              "      <th>4</th>\n",
              "      <td>6</td>\n",
              "      <td>The Lion King (2019)</td>\n",
              "      <td>7163</td>\n",
              "      <td>11.945301</td>\n",
              "    </tr>\n",
              "    <tr>\n",
              "      <th>5</th>\n",
              "      <td>5</td>\n",
              "      <td>The Lion King (2019)</td>\n",
              "      <td>3298</td>\n",
              "      <td>5.499875</td>\n",
              "    </tr>\n",
              "    <tr>\n",
              "      <th>6</th>\n",
              "      <td>4</td>\n",
              "      <td>The Lion King (2019)</td>\n",
              "      <td>1528</td>\n",
              "      <td>2.548153</td>\n",
              "    </tr>\n",
              "    <tr>\n",
              "      <th>7</th>\n",
              "      <td>3</td>\n",
              "      <td>The Lion King (2019)</td>\n",
              "      <td>1029</td>\n",
              "      <td>1.716001</td>\n",
              "    </tr>\n",
              "    <tr>\n",
              "      <th>8</th>\n",
              "      <td>2</td>\n",
              "      <td>The Lion King (2019)</td>\n",
              "      <td>779</td>\n",
              "      <td>1.299091</td>\n",
              "    </tr>\n",
              "    <tr>\n",
              "      <th>9</th>\n",
              "      <td>1</td>\n",
              "      <td>The Lion King (2019)</td>\n",
              "      <td>2624</td>\n",
              "      <td>4.375886</td>\n",
              "    </tr>\n",
              "    <tr>\n",
              "      <th>10</th>\n",
              "      <td>10</td>\n",
              "      <td>The Lion King (1994)</td>\n",
              "      <td>254677</td>\n",
              "      <td>29.966654</td>\n",
              "    </tr>\n",
              "    <tr>\n",
              "      <th>11</th>\n",
              "      <td>9</td>\n",
              "      <td>The Lion King (1994)</td>\n",
              "      <td>219235</td>\n",
              "      <td>25.796359</td>\n",
              "    </tr>\n",
              "    <tr>\n",
              "      <th>12</th>\n",
              "      <td>8</td>\n",
              "      <td>The Lion King (1994)</td>\n",
              "      <td>213602</td>\n",
              "      <td>25.133550</td>\n",
              "    </tr>\n",
              "    <tr>\n",
              "      <th>13</th>\n",
              "      <td>7</td>\n",
              "      <td>The Lion King (1994)</td>\n",
              "      <td>100743</td>\n",
              "      <td>11.853958</td>\n",
              "    </tr>\n",
              "    <tr>\n",
              "      <th>14</th>\n",
              "      <td>6</td>\n",
              "      <td>The Lion King (1994)</td>\n",
              "      <td>33087</td>\n",
              "      <td>3.893193</td>\n",
              "    </tr>\n",
              "    <tr>\n",
              "      <th>15</th>\n",
              "      <td>5</td>\n",
              "      <td>The Lion King (1994)</td>\n",
              "      <td>13246</td>\n",
              "      <td>1.558595</td>\n",
              "    </tr>\n",
              "    <tr>\n",
              "      <th>16</th>\n",
              "      <td>4</td>\n",
              "      <td>The Lion King (1994)</td>\n",
              "      <td>5344</td>\n",
              "      <td>0.628804</td>\n",
              "    </tr>\n",
              "    <tr>\n",
              "      <th>17</th>\n",
              "      <td>3</td>\n",
              "      <td>The Lion King (1994)</td>\n",
              "      <td>3009</td>\n",
              "      <td>0.354055</td>\n",
              "    </tr>\n",
              "    <tr>\n",
              "      <th>18</th>\n",
              "      <td>2</td>\n",
              "      <td>The Lion King (1994)</td>\n",
              "      <td>1969</td>\n",
              "      <td>0.231683</td>\n",
              "    </tr>\n",
              "    <tr>\n",
              "      <th>19</th>\n",
              "      <td>1</td>\n",
              "      <td>The Lion King (1994)</td>\n",
              "      <td>4956</td>\n",
              "      <td>0.583149</td>\n",
              "    </tr>\n",
              "  </tbody>\n",
              "</table>\n",
              "</div>"
            ],
            "text/plain": [
              "    Star Rating                 Movie  Number of Votes  Vote Percent\n",
              "0            10  The Lion King (2019)            10695     17.835404\n",
              "1             9  The Lion King (2019)             6858     11.436671\n",
              "2             8  The Lion King (2019)            12577     20.973901\n",
              "3             7  The Lion King (2019)            13414     22.369716\n",
              "4             6  The Lion King (2019)             7163     11.945301\n",
              "5             5  The Lion King (2019)             3298      5.499875\n",
              "6             4  The Lion King (2019)             1528      2.548153\n",
              "7             3  The Lion King (2019)             1029      1.716001\n",
              "8             2  The Lion King (2019)              779      1.299091\n",
              "9             1  The Lion King (2019)             2624      4.375886\n",
              "10           10  The Lion King (1994)           254677     29.966654\n",
              "11            9  The Lion King (1994)           219235     25.796359\n",
              "12            8  The Lion King (1994)           213602     25.133550\n",
              "13            7  The Lion King (1994)           100743     11.853958\n",
              "14            6  The Lion King (1994)            33087      3.893193\n",
              "15            5  The Lion King (1994)            13246      1.558595\n",
              "16            4  The Lion King (1994)             5344      0.628804\n",
              "17            3  The Lion King (1994)             3009      0.354055\n",
              "18            2  The Lion King (1994)             1969      0.231683\n",
              "19            1  The Lion King (1994)             4956      0.583149"
            ]
          },
          "metadata": {
            "tags": []
          },
          "execution_count": 58
        }
      ]
    },
    {
      "cell_type": "code",
      "metadata": {
        "id": "-6ncyMWp25PY",
        "colab_type": "code",
        "outputId": "318bca69-4490-4e11-b329-a6c8987bfa7e",
        "colab": {
          "base_uri": "https://localhost:8080/",
          "height": 170
        }
      },
      "source": [
        "df_tidy.info()"
      ],
      "execution_count": 42,
      "outputs": [
        {
          "output_type": "stream",
          "text": [
            "<class 'pandas.core.frame.DataFrame'>\n",
            "RangeIndex: 40 entries, 0 to 39\n",
            "Data columns (total 4 columns):\n",
            "Star Rating        40 non-null int64\n",
            "Movie              40 non-null object\n",
            "Number of Votes    40 non-null int64\n",
            "Vote Percent       40 non-null float64\n",
            "dtypes: float64(1), int64(2), object(1)\n",
            "memory usage: 1.3+ KB\n"
          ],
          "name": "stdout"
        }
      ]
    },
    {
      "cell_type": "code",
      "metadata": {
        "id": "MSR2uRhK28HG",
        "colab_type": "code",
        "outputId": "3a701845-747d-4c7e-a24c-a64a22185284",
        "colab": {
          "base_uri": "https://localhost:8080/",
          "height": 873
        }
      },
      "source": [
        "import seaborn as sns\n",
        "\n",
        "sns.catplot(x='Star Rating', y='Vote Percent', col='Movie', col_wrap=2, height=6, kind='bar', data=df_tidy);"
      ],
      "execution_count": 43,
      "outputs": [
        {
          "output_type": "display_data",
          "data": {
            "image/png": "[encoded data removed]",
            "text/plain": [
              "<Figure size 864x864 with 4 Axes>"
            ]
          },
          "metadata": {
            "tags": []
          }
        }
      ]
    },
    {
      "cell_type": "markdown",
      "metadata": {
        "id": "5_na7Oy3NGKA",
        "colab_type": "text"
      },
      "source": [
        "# Making Explanatory Visualizations with Seaborn"
      ]
    },
    {
      "cell_type": "markdown",
      "metadata": {
        "id": "ORUwQD6F-VYg",
        "colab_type": "text"
      },
      "source": [
        "Today we will reproduce this [example by FiveThirtyEight:](https://fivethirtyeight.com/features/al-gores-new-movie-exposes-the-big-flaw-in-online-movie-ratings/)\n",
        "\n"
      ]
    },
    {
      "cell_type": "code",
      "metadata": {
        "colab_type": "code",
        "id": "ya_w5WORGs-n",
        "outputId": "2ca87220-0154-49c9-ca05-30fc4117bb3d",
        "colab": {
          "base_uri": "https://localhost:8080/",
          "height": 355
        }
      },
      "source": [
        "from IPython.display import display, Image\n",
        "\n",
        "url = 'https://fivethirtyeight.com/wp-content/uploads/2017/09/mehtahickey-inconvenient-0830-1.png'\n",
        "example = Image(url=url, width=400)\n",
        "\n",
        "display(example)"
      ],
      "execution_count": 44,
      "outputs": [
        {
          "output_type": "display_data",
          "data": {
            "text/html": [
              "<img src=\"https://fivethirtyeight.com/wp-content/uploads/2017/09/mehtahickey-inconvenient-0830-1.png\" width=\"400\"/>"
            ],
            "text/plain": [
              "<IPython.core.display.Image object>"
            ]
          },
          "metadata": {
            "tags": []
          }
        }
      ]
    },
    {
      "cell_type": "markdown",
      "metadata": {
        "colab_type": "text",
        "id": "HP4DALiRG3sC"
      },
      "source": [
        "Using this data: https://github.com/fivethirtyeight/data/tree/master/inconvenient-sequel"
      ]
    },
    {
      "cell_type": "markdown",
      "metadata": {
        "colab_type": "text",
        "id": "HioPkYtUG03B"
      },
      "source": [
        "Links\n",
        "- [Strong Titles Are The Biggest Bang for Your Buck](http://stephanieevergreen.com/strong-titles/)\n",
        "- [Remove to improve (the data-ink ratio)](https://www.darkhorseanalytics.com/blog/data-looks-better-naked)\n",
        "- [How to Generate FiveThirtyEight Graphs in Python](https://www.dataquest.io/blog/making-538-plots/)"
      ]
    },
    {
      "cell_type": "markdown",
      "metadata": {
        "colab_type": "text",
        "id": "0w_iMnQ6-VoQ"
      },
      "source": [
        "## Make prototypes\n",
        "\n",
        "This  helps us understand the problem"
      ]
    },
    {
      "cell_type": "code",
      "metadata": {
        "colab_type": "code",
        "id": "5uz0eEaEN-GO",
        "outputId": "47cdd92a-33d0-465e-91ba-99cd38587dc5",
        "colab": {
          "base_uri": "https://localhost:8080/",
          "height": 285
        }
      },
      "source": [
        "%matplotlib inline\n",
        "import matplotlib.pyplot as plt\n",
        "import numpy as np\n",
        "import pandas as pd\n",
        "\n",
        "\n",
        "plt.style.use('fivethirtyeight')\n",
        "\n",
        "fake = pd.Series([38, 3, 2, 1, 2, 4, 6, 5, 5, 33], \n",
        "                 index=range(1,11))\n",
        "\n",
        "fake.plot.bar(color='C1', width=0.9);"
      ],
      "execution_count": 46,
      "outputs": [
        {
          "output_type": "display_data",
          "data": {
            "image/png": "[encoded data removed]",
            "text/plain": [
              "<Figure size 432x288 with 1 Axes>"
            ]
          },
          "metadata": {
            "tags": []
          }
        }
      ]
    },
    {
      "cell_type": "code",
      "metadata": {
        "colab_type": "code",
        "id": "KZ0VLOV8OyRr",
        "outputId": "fda1d08c-514c-4bfd-afa1-7ea8d4f98b1d",
        "colab": {
          "base_uri": "https://localhost:8080/",
          "height": 285
        }
      },
      "source": [
        "fake2 = pd.Series(\n",
        "    [1, 1, 1, 1, 1, 1, 1, 1, 1, 1, 1, 1, 1, 1, 1, 1, 1, 1, 1, 1, 1, 1, 1, 1, 1, 1, 1 ,1 ,1 ,1 ,\n",
        "     2, 2, 2, \n",
        "     3, 3, 3,\n",
        "     4, 4,\n",
        "     5, 5, 5,\n",
        "     6, 6, 6, 6,\n",
        "     7, 7, 7, 7, 7,\n",
        "     8, 8, 8, 8,\n",
        "     9, 9, 9, 9, \n",
        "     10, 10, 10, 10, 10, 10, 10, 10, 10, 10, 10, 10, 10, 10, 10, 10, 10, 10, 10, 10, 10, 10])\n",
        "\n",
        "fake2.value_counts().sort_index().plot.bar(color='C1', width=0.9);"
      ],
      "execution_count": 47,
      "outputs": [
        {
          "output_type": "display_data",
          "data": {
            "image/png": "[encoded data removed]",
            "text/plain": [
              "<Figure size 432x288 with 1 Axes>"
            ]
          },
          "metadata": {
            "tags": []
          }
        }
      ]
    },
    {
      "cell_type": "markdown",
      "metadata": {
        "colab_type": "text",
        "id": "mZb3UZWO-q05"
      },
      "source": [
        "## Annotate with text"
      ]
    },
    {
      "cell_type": "code",
      "metadata": {
        "colab_type": "code",
        "id": "f6U1vswr_uWp",
        "outputId": "11a25cc6-6204-43de-b5e4-755889be25b3",
        "colab": {
          "base_uri": "https://localhost:8080/",
          "height": 387
        }
      },
      "source": [
        "import matplotlib.pyplot as plt\n",
        "\n",
        "plt.style.use('fivethirtyeight')\n",
        "fake.plot.bar(color='C1', width=0.9);\n",
        "plt.text(x=-1.5, y=50, fontsize=16, fontweight='bold',\n",
        "        s = \"'An Inconvenient Sequel: Truth to Power' is divisive\")\n",
        "plt.text(x=-1.5, y=46, fontsize=12,\n",
        "        s = 'IMDb ratings for the film as of Aug. 29')\n",
        "plt.yticks(range(0,41,10))\n",
        "plt.xlabel('Rating', fontsize=10, fontweight='bold')\n",
        "plt.ylabel('Percent of Total Votes', fontsize=10, fontweight='bold')"
      ],
      "execution_count": 48,
      "outputs": [
        {
          "output_type": "execute_result",
          "data": {
            "text/plain": [
              "Text(0, 0.5, 'Percent of Total Votes')"
            ]
          },
          "metadata": {
            "tags": []
          },
          "execution_count": 48
        },
        {
          "output_type": "display_data",
          "data": {
            "image/png": "[encoded data removed]",
            "text/plain": [
              "<Figure size 432x288 with 1 Axes>"
            ]
          },
          "metadata": {
            "tags": []
          }
        }
      ]
    },
    {
      "cell_type": "markdown",
      "metadata": {
        "colab_type": "text",
        "id": "x8jRZkpB_MJ6"
      },
      "source": [
        "## Reproduce with real data"
      ]
    },
    {
      "cell_type": "code",
      "metadata": {
        "colab_type": "code",
        "id": "3SOHJckDUPI8",
        "outputId": "25fbf67c-f923-44c9-d89b-b5e434ce508a",
        "colab": {
          "base_uri": "https://localhost:8080/",
          "height": 326
        }
      },
      "source": [
        "df = pd.read_csv('https://raw.githubusercontent.com/fivethirtyeight/data/master/inconvenient-sequel/ratings.csv')\n",
        "print(df.shape)\n",
        "df.head()"
      ],
      "execution_count": 49,
      "outputs": [
        {
          "output_type": "stream",
          "text": [
            "(80053, 27)\n"
          ],
          "name": "stdout"
        },
        {
          "output_type": "execute_result",
          "data": {
            "text/html": [
              "<div>\n",
              "<style scoped>\n",
              "    .dataframe tbody tr th:only-of-type {\n",
              "        vertical-align: middle;\n",
              "    }\n",
              "\n",
              "    .dataframe tbody tr th {\n",
              "        vertical-align: top;\n",
              "    }\n",
              "\n",
              "    .dataframe thead th {\n",
              "        text-align: right;\n",
              "    }\n",
              "</style>\n",
              "<table border=\"1\" class=\"dataframe\">\n",
              "  <thead>\n",
              "    <tr style=\"text-align: right;\">\n",
              "      <th></th>\n",
              "      <th>timestamp</th>\n",
              "      <th>respondents</th>\n",
              "      <th>category</th>\n",
              "      <th>link</th>\n",
              "      <th>average</th>\n",
              "      <th>mean</th>\n",
              "      <th>median</th>\n",
              "      <th>1_votes</th>\n",
              "      <th>2_votes</th>\n",
              "      <th>3_votes</th>\n",
              "      <th>4_votes</th>\n",
              "      <th>5_votes</th>\n",
              "      <th>6_votes</th>\n",
              "      <th>7_votes</th>\n",
              "      <th>8_votes</th>\n",
              "      <th>9_votes</th>\n",
              "      <th>10_votes</th>\n",
              "      <th>1_pct</th>\n",
              "      <th>2_pct</th>\n",
              "      <th>3_pct</th>\n",
              "      <th>4_pct</th>\n",
              "      <th>5_pct</th>\n",
              "      <th>6_pct</th>\n",
              "      <th>7_pct</th>\n",
              "      <th>8_pct</th>\n",
              "      <th>9_pct</th>\n",
              "      <th>10_pct</th>\n",
              "    </tr>\n",
              "  </thead>\n",
              "  <tbody>\n",
              "    <tr>\n",
              "      <th>0</th>\n",
              "      <td>2017-07-17 12:28:32.785639</td>\n",
              "      <td>402</td>\n",
              "      <td>Males</td>\n",
              "      <td>http://www.imdb.com/title/tt6322922/ratings-male</td>\n",
              "      <td>4.6</td>\n",
              "      <td>5.0</td>\n",
              "      <td>2</td>\n",
              "      <td>197</td>\n",
              "      <td>7</td>\n",
              "      <td>7</td>\n",
              "      <td>3</td>\n",
              "      <td>7</td>\n",
              "      <td>7</td>\n",
              "      <td>11</td>\n",
              "      <td>8</td>\n",
              "      <td>20</td>\n",
              "      <td>135</td>\n",
              "      <td>49.0</td>\n",
              "      <td>1.7</td>\n",
              "      <td>1.7</td>\n",
              "      <td>0.7</td>\n",
              "      <td>1.7</td>\n",
              "      <td>1.7</td>\n",
              "      <td>2.7</td>\n",
              "      <td>2.0</td>\n",
              "      <td>5.0</td>\n",
              "      <td>33.6</td>\n",
              "    </tr>\n",
              "    <tr>\n",
              "      <th>1</th>\n",
              "      <td>2017-07-17 12:28:33.025600</td>\n",
              "      <td>78</td>\n",
              "      <td>Females</td>\n",
              "      <td>http://www.imdb.com/title/tt6322922/ratings-fe...</td>\n",
              "      <td>6.9</td>\n",
              "      <td>7.7</td>\n",
              "      <td>10</td>\n",
              "      <td>16</td>\n",
              "      <td>1</td>\n",
              "      <td>0</td>\n",
              "      <td>1</td>\n",
              "      <td>1</td>\n",
              "      <td>0</td>\n",
              "      <td>3</td>\n",
              "      <td>4</td>\n",
              "      <td>3</td>\n",
              "      <td>49</td>\n",
              "      <td>20.5</td>\n",
              "      <td>1.3</td>\n",
              "      <td>0.0</td>\n",
              "      <td>1.3</td>\n",
              "      <td>1.3</td>\n",
              "      <td>0.0</td>\n",
              "      <td>3.8</td>\n",
              "      <td>5.1</td>\n",
              "      <td>3.8</td>\n",
              "      <td>62.8</td>\n",
              "    </tr>\n",
              "    <tr>\n",
              "      <th>2</th>\n",
              "      <td>2017-07-17 12:28:33.273919</td>\n",
              "      <td>4</td>\n",
              "      <td>Aged under 18</td>\n",
              "      <td>http://www.imdb.com/title/tt6322922/ratings-age_1</td>\n",
              "      <td>4.2</td>\n",
              "      <td>4.2</td>\n",
              "      <td>3</td>\n",
              "      <td>2</td>\n",
              "      <td>0</td>\n",
              "      <td>0</td>\n",
              "      <td>0</td>\n",
              "      <td>1</td>\n",
              "      <td>0</td>\n",
              "      <td>0</td>\n",
              "      <td>0</td>\n",
              "      <td>0</td>\n",
              "      <td>1</td>\n",
              "      <td>50.0</td>\n",
              "      <td>0.0</td>\n",
              "      <td>0.0</td>\n",
              "      <td>0.0</td>\n",
              "      <td>25.0</td>\n",
              "      <td>0.0</td>\n",
              "      <td>0.0</td>\n",
              "      <td>0.0</td>\n",
              "      <td>0.0</td>\n",
              "      <td>25.0</td>\n",
              "    </tr>\n",
              "    <tr>\n",
              "      <th>3</th>\n",
              "      <td>2017-07-17 12:28:33.495325</td>\n",
              "      <td>4</td>\n",
              "      <td>Males under 18</td>\n",
              "      <td>http://www.imdb.com/title/tt6322922/ratings-ma...</td>\n",
              "      <td>4.2</td>\n",
              "      <td>4.2</td>\n",
              "      <td>3</td>\n",
              "      <td>2</td>\n",
              "      <td>0</td>\n",
              "      <td>0</td>\n",
              "      <td>0</td>\n",
              "      <td>1</td>\n",
              "      <td>0</td>\n",
              "      <td>0</td>\n",
              "      <td>0</td>\n",
              "      <td>0</td>\n",
              "      <td>1</td>\n",
              "      <td>50.0</td>\n",
              "      <td>0.0</td>\n",
              "      <td>0.0</td>\n",
              "      <td>0.0</td>\n",
              "      <td>25.0</td>\n",
              "      <td>0.0</td>\n",
              "      <td>0.0</td>\n",
              "      <td>0.0</td>\n",
              "      <td>0.0</td>\n",
              "      <td>25.0</td>\n",
              "    </tr>\n",
              "    <tr>\n",
              "      <th>4</th>\n",
              "      <td>2017-07-17 12:28:33.722849</td>\n",
              "      <td>130</td>\n",
              "      <td>Aged 18-29</td>\n",
              "      <td>http://www.imdb.com/title/tt6322922/ratings-age_2</td>\n",
              "      <td>6.3</td>\n",
              "      <td>6.5</td>\n",
              "      <td>9</td>\n",
              "      <td>41</td>\n",
              "      <td>0</td>\n",
              "      <td>3</td>\n",
              "      <td>1</td>\n",
              "      <td>2</td>\n",
              "      <td>3</td>\n",
              "      <td>6</td>\n",
              "      <td>4</td>\n",
              "      <td>6</td>\n",
              "      <td>64</td>\n",
              "      <td>31.5</td>\n",
              "      <td>0.0</td>\n",
              "      <td>2.3</td>\n",
              "      <td>0.8</td>\n",
              "      <td>1.5</td>\n",
              "      <td>2.3</td>\n",
              "      <td>4.6</td>\n",
              "      <td>3.1</td>\n",
              "      <td>4.6</td>\n",
              "      <td>49.2</td>\n",
              "    </tr>\n",
              "  </tbody>\n",
              "</table>\n",
              "</div>"
            ],
            "text/plain": [
              "                    timestamp  respondents  ... 9_pct 10_pct\n",
              "0  2017-07-17 12:28:32.785639          402  ...   5.0   33.6\n",
              "1  2017-07-17 12:28:33.025600           78  ...   3.8   62.8\n",
              "2  2017-07-17 12:28:33.273919            4  ...   0.0   25.0\n",
              "3  2017-07-17 12:28:33.495325            4  ...   0.0   25.0\n",
              "4  2017-07-17 12:28:33.722849          130  ...   4.6   49.2\n",
              "\n",
              "[5 rows x 27 columns]"
            ]
          },
          "metadata": {
            "tags": []
          },
          "execution_count": 49
        }
      ]
    },
    {
      "cell_type": "code",
      "metadata": {
        "id": "pZeTJVly-lLt",
        "colab_type": "code",
        "outputId": "b764fb67-c26e-4f93-ab43-3c97996efd55",
        "colab": {
          "base_uri": "https://localhost:8080/",
          "height": 357
        }
      },
      "source": [
        "df.category.value_counts()"
      ],
      "execution_count": 50,
      "outputs": [
        {
          "output_type": "execute_result",
          "data": {
            "text/plain": [
              "Males under 18        4216\n",
              "Females Aged 30-44    4216\n",
              "Top 1000 voters       4216\n",
              "Males                 4216\n",
              "IMDb users            4216\n",
              "Non-US users          4216\n",
              "Females Aged 18-29    4216\n",
              "Aged 18-29            4216\n",
              "Males Aged 45+        4216\n",
              "Males Aged 30-44      4216\n",
              "Aged 30-44            4216\n",
              "Aged under 18         4216\n",
              "US users              4216\n",
              "Males Aged 18-29      4216\n",
              "Females Aged 45+      4216\n",
              "Females               4216\n",
              "Aged 45+              4216\n",
              "IMDb staff            4216\n",
              "Females under 18      4165\n",
              "Name: category, dtype: int64"
            ]
          },
          "metadata": {
            "tags": []
          },
          "execution_count": 50
        }
      ]
    },
    {
      "cell_type": "code",
      "metadata": {
        "colab_type": "code",
        "id": "cDltXxhC_yG-",
        "outputId": "73b959c1-61d9-4256-ba72-15ed3db78225",
        "colab": {
          "base_uri": "https://localhost:8080/",
          "height": 493
        }
      },
      "source": [
        "df.dtypes"
      ],
      "execution_count": 51,
      "outputs": [
        {
          "output_type": "execute_result",
          "data": {
            "text/plain": [
              "timestamp       object\n",
              "respondents      int64\n",
              "category        object\n",
              "link            object\n",
              "average        float64\n",
              "mean           float64\n",
              "median           int64\n",
              "1_votes          int64\n",
              "2_votes          int64\n",
              "3_votes          int64\n",
              "4_votes          int64\n",
              "5_votes          int64\n",
              "6_votes          int64\n",
              "7_votes          int64\n",
              "8_votes          int64\n",
              "9_votes          int64\n",
              "10_votes         int64\n",
              "1_pct          float64\n",
              "2_pct          float64\n",
              "3_pct          float64\n",
              "4_pct          float64\n",
              "5_pct          float64\n",
              "6_pct          float64\n",
              "7_pct          float64\n",
              "8_pct          float64\n",
              "9_pct          float64\n",
              "10_pct         float64\n",
              "dtype: object"
            ]
          },
          "metadata": {
            "tags": []
          },
          "execution_count": 51
        }
      ]
    },
    {
      "cell_type": "code",
      "metadata": {
        "id": "HvCdaYym_Frk",
        "colab_type": "code",
        "outputId": "c900a9f1-829c-44a8-da22-ec5d9cda6016",
        "colab": {
          "base_uri": "https://localhost:8080/",
          "height": 136
        }
      },
      "source": [
        "df['timestamp'] = pd.to_datetime(df['timestamp'])\n",
        "df['timestamp'].describe()"
      ],
      "execution_count": 52,
      "outputs": [
        {
          "output_type": "execute_result",
          "data": {
            "text/plain": [
              "count                          80053\n",
              "unique                         80053\n",
              "top       2017-07-24 23:00:02.760781\n",
              "freq                               1\n",
              "first     2017-07-17 12:28:32.785639\n",
              "last      2017-08-29 23:10:06.218251\n",
              "Name: timestamp, dtype: object"
            ]
          },
          "metadata": {
            "tags": []
          },
          "execution_count": 52
        }
      ]
    },
    {
      "cell_type": "code",
      "metadata": {
        "id": "JEY59uNd_zKy",
        "colab_type": "code",
        "outputId": "5ff91c32-4db5-490a-ab49-10ba098831af",
        "colab": {
          "base_uri": "https://localhost:8080/",
          "height": 34
        }
      },
      "source": [
        "df_imdb = df[df.category == 'IMDb users']\n",
        "df_imdb.shape"
      ],
      "execution_count": 53,
      "outputs": [
        {
          "output_type": "execute_result",
          "data": {
            "text/plain": [
              "(4216, 27)"
            ]
          },
          "metadata": {
            "tags": []
          },
          "execution_count": 53
        }
      ]
    },
    {
      "cell_type": "code",
      "metadata": {
        "id": "PAFDlyl_ABxk",
        "colab_type": "code",
        "outputId": "366f9fb8-ed02-48d4-f0dc-d834cf860085",
        "colab": {
          "base_uri": "https://localhost:8080/",
          "height": 117
        }
      },
      "source": [
        "final = df_imdb.tail(1)\n",
        "final"
      ],
      "execution_count": 54,
      "outputs": [
        {
          "output_type": "execute_result",
          "data": {
            "text/html": [
              "<div>\n",
              "<style scoped>\n",
              "    .dataframe tbody tr th:only-of-type {\n",
              "        vertical-align: middle;\n",
              "    }\n",
              "\n",
              "    .dataframe tbody tr th {\n",
              "        vertical-align: top;\n",
              "    }\n",
              "\n",
              "    .dataframe thead th {\n",
              "        text-align: right;\n",
              "    }\n",
              "</style>\n",
              "<table border=\"1\" class=\"dataframe\">\n",
              "  <thead>\n",
              "    <tr style=\"text-align: right;\">\n",
              "      <th></th>\n",
              "      <th>timestamp</th>\n",
              "      <th>respondents</th>\n",
              "      <th>category</th>\n",
              "      <th>link</th>\n",
              "      <th>average</th>\n",
              "      <th>mean</th>\n",
              "      <th>median</th>\n",
              "      <th>1_votes</th>\n",
              "      <th>2_votes</th>\n",
              "      <th>3_votes</th>\n",
              "      <th>4_votes</th>\n",
              "      <th>5_votes</th>\n",
              "      <th>6_votes</th>\n",
              "      <th>7_votes</th>\n",
              "      <th>8_votes</th>\n",
              "      <th>9_votes</th>\n",
              "      <th>10_votes</th>\n",
              "      <th>1_pct</th>\n",
              "      <th>2_pct</th>\n",
              "      <th>3_pct</th>\n",
              "      <th>4_pct</th>\n",
              "      <th>5_pct</th>\n",
              "      <th>6_pct</th>\n",
              "      <th>7_pct</th>\n",
              "      <th>8_pct</th>\n",
              "      <th>9_pct</th>\n",
              "      <th>10_pct</th>\n",
              "    </tr>\n",
              "  </thead>\n",
              "  <tbody>\n",
              "    <tr>\n",
              "      <th>80052</th>\n",
              "      <td>2017-08-29 23:10:06.218251</td>\n",
              "      <td>2662</td>\n",
              "      <td>IMDb users</td>\n",
              "      <td>http://www.imdb.com/title/tt6322922/ratings</td>\n",
              "      <td>5.4</td>\n",
              "      <td>5.6</td>\n",
              "      <td>7</td>\n",
              "      <td>1021</td>\n",
              "      <td>69</td>\n",
              "      <td>38</td>\n",
              "      <td>25</td>\n",
              "      <td>55</td>\n",
              "      <td>110</td>\n",
              "      <td>154</td>\n",
              "      <td>147</td>\n",
              "      <td>146</td>\n",
              "      <td>897</td>\n",
              "      <td>38.4</td>\n",
              "      <td>2.6</td>\n",
              "      <td>1.4</td>\n",
              "      <td>0.9</td>\n",
              "      <td>2.1</td>\n",
              "      <td>4.1</td>\n",
              "      <td>5.8</td>\n",
              "      <td>5.5</td>\n",
              "      <td>5.5</td>\n",
              "      <td>33.7</td>\n",
              "    </tr>\n",
              "  </tbody>\n",
              "</table>\n",
              "</div>"
            ],
            "text/plain": [
              "                       timestamp  respondents    category  ... 8_pct  9_pct  10_pct\n",
              "80052 2017-08-29 23:10:06.218251         2662  IMDb users  ...   5.5    5.5    33.7\n",
              "\n",
              "[1 rows x 27 columns]"
            ]
          },
          "metadata": {
            "tags": []
          },
          "execution_count": 54
        }
      ]
    },
    {
      "cell_type": "code",
      "metadata": {
        "id": "0JdOzb3KANXL",
        "colab_type": "code",
        "outputId": "b7adc07a-938a-40a7-9066-f9f2d78625e3",
        "colab": {
          "base_uri": "https://localhost:8080/",
          "height": 187
        }
      },
      "source": [
        "# two different ways to change it (I am not entirely sure what we are changing here)\n",
        "columns = ['{}_pct'. format(i) for i in range(1,11)]\n",
        "columns = [f'{i}_pct' for i in range(1,11)]\n",
        "columns"
      ],
      "execution_count": 55,
      "outputs": [
        {
          "output_type": "execute_result",
          "data": {
            "text/plain": [
              "['1_pct',\n",
              " '2_pct',\n",
              " '3_pct',\n",
              " '4_pct',\n",
              " '5_pct',\n",
              " '6_pct',\n",
              " '7_pct',\n",
              " '8_pct',\n",
              " '9_pct',\n",
              " '10_pct']"
            ]
          },
          "metadata": {
            "tags": []
          },
          "execution_count": 55
        }
      ]
    },
    {
      "cell_type": "code",
      "metadata": {
        "id": "hKR34odfBKXe",
        "colab_type": "code",
        "outputId": "5ab8efc5-3561-4339-c5b2-5a37f31b0bd9",
        "colab": {
          "base_uri": "https://localhost:8080/",
          "height": 359
        }
      },
      "source": [
        "data = final[columns]\n",
        "data = data.T\n",
        "data.index = range(1,11)\n",
        "data.head(10)"
      ],
      "execution_count": 56,
      "outputs": [
        {
          "output_type": "execute_result",
          "data": {
            "text/html": [
              "<div>\n",
              "<style scoped>\n",
              "    .dataframe tbody tr th:only-of-type {\n",
              "        vertical-align: middle;\n",
              "    }\n",
              "\n",
              "    .dataframe tbody tr th {\n",
              "        vertical-align: top;\n",
              "    }\n",
              "\n",
              "    .dataframe thead th {\n",
              "        text-align: right;\n",
              "    }\n",
              "</style>\n",
              "<table border=\"1\" class=\"dataframe\">\n",
              "  <thead>\n",
              "    <tr style=\"text-align: right;\">\n",
              "      <th></th>\n",
              "      <th>80052</th>\n",
              "    </tr>\n",
              "  </thead>\n",
              "  <tbody>\n",
              "    <tr>\n",
              "      <th>1</th>\n",
              "      <td>38.4</td>\n",
              "    </tr>\n",
              "    <tr>\n",
              "      <th>2</th>\n",
              "      <td>2.6</td>\n",
              "    </tr>\n",
              "    <tr>\n",
              "      <th>3</th>\n",
              "      <td>1.4</td>\n",
              "    </tr>\n",
              "    <tr>\n",
              "      <th>4</th>\n",
              "      <td>0.9</td>\n",
              "    </tr>\n",
              "    <tr>\n",
              "      <th>5</th>\n",
              "      <td>2.1</td>\n",
              "    </tr>\n",
              "    <tr>\n",
              "      <th>6</th>\n",
              "      <td>4.1</td>\n",
              "    </tr>\n",
              "    <tr>\n",
              "      <th>7</th>\n",
              "      <td>5.8</td>\n",
              "    </tr>\n",
              "    <tr>\n",
              "      <th>8</th>\n",
              "      <td>5.5</td>\n",
              "    </tr>\n",
              "    <tr>\n",
              "      <th>9</th>\n",
              "      <td>5.5</td>\n",
              "    </tr>\n",
              "    <tr>\n",
              "      <th>10</th>\n",
              "      <td>33.7</td>\n",
              "    </tr>\n",
              "  </tbody>\n",
              "</table>\n",
              "</div>"
            ],
            "text/plain": [
              "    80052\n",
              "1    38.4\n",
              "2     2.6\n",
              "3     1.4\n",
              "4     0.9\n",
              "5     2.1\n",
              "6     4.1\n",
              "7     5.8\n",
              "8     5.5\n",
              "9     5.5\n",
              "10   33.7"
            ]
          },
          "metadata": {
            "tags": []
          },
          "execution_count": 56
        }
      ]
    },
    {
      "cell_type": "code",
      "metadata": {
        "id": "pUICFCnOAPIv",
        "colab_type": "code",
        "outputId": "4feecd76-95bd-4d40-8be8-72c5d4190cef",
        "colab": {
          "base_uri": "https://localhost:8080/",
          "height": 367
        }
      },
      "source": [
        "plt.style.use('fivethirtyeight')\n",
        "data.plot.bar(color='C1', width=0.9, legend=False);\n",
        "plt.text(x=-1.5, y=50, fontsize=16, fontweight='bold',\n",
        "        s = \"'An Inconvenient Sequel: Truth to Power' is divisive\")\n",
        "plt.text(x=-1.5, y=46, fontsize=12,\n",
        "        s = 'IMDb ratings for the film as of Aug. 29')\n",
        "plt.yticks(range(0,41,10))\n",
        "plt.xlabel('Rating', fontsize=10, fontweight='bold')\n",
        "plt.ylabel('Percent of Total Votes', fontsize=10, fontweight='bold');"
      ],
      "execution_count": 57,
      "outputs": [
        {
          "output_type": "display_data",
          "data": {
            "image/png": "[encoded data removed]",
            "text/plain": [
              "<Figure size 432x288 with 1 Axes>"
            ]
          },
          "metadata": {
            "tags": []
          }
        }
      ]
    },
    {
      "cell_type": "markdown",
      "metadata": {
        "colab_type": "text",
        "id": "NMEswXWh9mqw"
      },
      "source": [
        "# ASSIGNMENT\n",
        "\n",
        "Replicate the lesson code. I recommend that you [do not copy-paste](https://docs.google.com/document/d/1ubOw9B3Hfip27hF2ZFnW3a3z9xAgrUDRReOEo-FHCVs/edit).\n",
        "\n",
        "# STRETCH OPTIONS\n",
        "\n",
        "#### 1) Reproduce another example from [FiveThityEight's shared data repository](https://data.fivethirtyeight.com/).\n",
        "\n",
        "#### 2) Reproduce one of the following using a library other than Seaborn or Matplotlib.\n",
        "\n",
        "For example:\n",
        "- [thanksgiving-2015](https://fivethirtyeight.com/features/heres-what-your-part-of-america-eats-on-thanksgiving/) (try the [`altair`](https://altair-viz.github.io/gallery/index.html#maps) library)\n",
        "- [candy-power-ranking](https://fivethirtyeight.com/features/the-ultimate-halloween-candy-power-ranking/) (try the [`statsmodels`](https://www.statsmodels.org/stable/index.html) library)\n",
        "- or another example of your choice!\n",
        "\n",
        "#### 3) Make more charts!\n",
        "\n",
        "Choose a chart you want to make, from [Visual Vocabulary - Vega Edition](http://ft.com/vocabulary).\n",
        "\n",
        "Find the chart in an example gallery of a Python data visualization library:\n",
        "- [Seaborn](http://seaborn.pydata.org/examples/index.html)\n",
        "- [Altair](https://altair-viz.github.io/gallery/index.html)\n",
        "- [Matplotlib](https://matplotlib.org/gallery.html)\n",
        "- [Pandas](https://pandas.pydata.org/pandas-docs/stable/visualization.html)\n",
        "\n",
        "Reproduce the chart. [Optionally, try the \"Ben Franklin Method.\"](https://docs.google.com/document/d/1ubOw9B3Hfip27hF2ZFnW3a3z9xAgrUDRReOEo-FHCVs/edit) If you want, experiment and make changes.\n",
        "\n",
        "Take notes. Consider sharing your work with your cohort!\n",
        "\n",
        "\n",
        "\n",
        "\n",
        "\n",
        "\n",
        "\n"
      ]
    },
    {
      "cell_type": "code",
      "metadata": {
        "id": "Ydhk9vhRoqBT",
        "colab_type": "code",
        "colab": {
          "base_uri": "https://localhost:8080/",
          "height": 547
        },
        "outputId": "22264827-db12-428b-c4e6-35de26c2c393"
      },
      "source": [
        "import pandas as pd\n",
        "\n",
        "url = 'https://raw.githubusercontent.com/fivethirtyeight/russian-troll-tweets/master/IRAhandle_tweets_1.csv'\n",
        "\n",
        "test = pd.read_csv(url)\n",
        "print(test.shape)\n",
        "test.head()\n"
      ],
      "execution_count": 64,
      "outputs": [
        {
          "output_type": "stream",
          "text": [
            "(243891, 21)\n"
          ],
          "name": "stdout"
        },
        {
          "output_type": "execute_result",
          "data": {
            "text/html": [
              "<div>\n",
              "<style scoped>\n",
              "    .dataframe tbody tr th:only-of-type {\n",
              "        vertical-align: middle;\n",
              "    }\n",
              "\n",
              "    .dataframe tbody tr th {\n",
              "        vertical-align: top;\n",
              "    }\n",
              "\n",
              "    .dataframe thead th {\n",
              "        text-align: right;\n",
              "    }\n",
              "</style>\n",
              "<table border=\"1\" class=\"dataframe\">\n",
              "  <thead>\n",
              "    <tr style=\"text-align: right;\">\n",
              "      <th></th>\n",
              "      <th>external_author_id</th>\n",
              "      <th>author</th>\n",
              "      <th>content</th>\n",
              "      <th>region</th>\n",
              "      <th>language</th>\n",
              "      <th>publish_date</th>\n",
              "      <th>harvested_date</th>\n",
              "      <th>following</th>\n",
              "      <th>followers</th>\n",
              "      <th>updates</th>\n",
              "      <th>post_type</th>\n",
              "      <th>account_type</th>\n",
              "      <th>retweet</th>\n",
              "      <th>account_category</th>\n",
              "      <th>new_june_2018</th>\n",
              "      <th>alt_external_id</th>\n",
              "      <th>tweet_id</th>\n",
              "      <th>article_url</th>\n",
              "      <th>tco1_step1</th>\n",
              "      <th>tco2_step1</th>\n",
              "      <th>tco3_step1</th>\n",
              "    </tr>\n",
              "  </thead>\n",
              "  <tbody>\n",
              "    <tr>\n",
              "      <th>0</th>\n",
              "      <td>906000000000000000</td>\n",
              "      <td>10_GOP</td>\n",
              "      <td>\"We have a sitting Democrat US Senator on tria...</td>\n",
              "      <td>Unknown</td>\n",
              "      <td>English</td>\n",
              "      <td>10/1/2017 19:58</td>\n",
              "      <td>10/1/2017 19:59</td>\n",
              "      <td>1052</td>\n",
              "      <td>9636</td>\n",
              "      <td>253</td>\n",
              "      <td>NaN</td>\n",
              "      <td>Right</td>\n",
              "      <td>0</td>\n",
              "      <td>RightTroll</td>\n",
              "      <td>0</td>\n",
              "      <td>905874659358453760</td>\n",
              "      <td>914580356430536707</td>\n",
              "      <td>http://twitter.com/905874659358453760/statuses...</td>\n",
              "      <td>https://twitter.com/10_gop/status/914580356430...</td>\n",
              "      <td>NaN</td>\n",
              "      <td>NaN</td>\n",
              "    </tr>\n",
              "    <tr>\n",
              "      <th>1</th>\n",
              "      <td>906000000000000000</td>\n",
              "      <td>10_GOP</td>\n",
              "      <td>Marshawn Lynch arrives to game in anti-Trump s...</td>\n",
              "      <td>Unknown</td>\n",
              "      <td>English</td>\n",
              "      <td>10/1/2017 22:43</td>\n",
              "      <td>10/1/2017 22:43</td>\n",
              "      <td>1054</td>\n",
              "      <td>9637</td>\n",
              "      <td>254</td>\n",
              "      <td>NaN</td>\n",
              "      <td>Right</td>\n",
              "      <td>0</td>\n",
              "      <td>RightTroll</td>\n",
              "      <td>0</td>\n",
              "      <td>905874659358453760</td>\n",
              "      <td>914621840496189440</td>\n",
              "      <td>http://twitter.com/905874659358453760/statuses...</td>\n",
              "      <td>https://twitter.com/damienwoody/status/9145685...</td>\n",
              "      <td>NaN</td>\n",
              "      <td>NaN</td>\n",
              "    </tr>\n",
              "    <tr>\n",
              "      <th>2</th>\n",
              "      <td>906000000000000000</td>\n",
              "      <td>10_GOP</td>\n",
              "      <td>Daughter of fallen Navy Sailor delivers powerf...</td>\n",
              "      <td>Unknown</td>\n",
              "      <td>English</td>\n",
              "      <td>10/1/2017 22:50</td>\n",
              "      <td>10/1/2017 22:51</td>\n",
              "      <td>1054</td>\n",
              "      <td>9637</td>\n",
              "      <td>255</td>\n",
              "      <td>RETWEET</td>\n",
              "      <td>Right</td>\n",
              "      <td>1</td>\n",
              "      <td>RightTroll</td>\n",
              "      <td>0</td>\n",
              "      <td>905874659358453760</td>\n",
              "      <td>914623490375979008</td>\n",
              "      <td>http://twitter.com/905874659358453760/statuses...</td>\n",
              "      <td>https://twitter.com/10_gop/status/913231923715...</td>\n",
              "      <td>NaN</td>\n",
              "      <td>NaN</td>\n",
              "    </tr>\n",
              "    <tr>\n",
              "      <th>3</th>\n",
              "      <td>906000000000000000</td>\n",
              "      <td>10_GOP</td>\n",
              "      <td>JUST IN: President Trump dedicates Presidents ...</td>\n",
              "      <td>Unknown</td>\n",
              "      <td>English</td>\n",
              "      <td>10/1/2017 23:52</td>\n",
              "      <td>10/1/2017 23:52</td>\n",
              "      <td>1062</td>\n",
              "      <td>9642</td>\n",
              "      <td>256</td>\n",
              "      <td>NaN</td>\n",
              "      <td>Right</td>\n",
              "      <td>0</td>\n",
              "      <td>RightTroll</td>\n",
              "      <td>0</td>\n",
              "      <td>905874659358453760</td>\n",
              "      <td>914639143690555392</td>\n",
              "      <td>http://twitter.com/905874659358453760/statuses...</td>\n",
              "      <td>https://twitter.com/10_gop/status/914639143690...</td>\n",
              "      <td>NaN</td>\n",
              "      <td>NaN</td>\n",
              "    </tr>\n",
              "    <tr>\n",
              "      <th>4</th>\n",
              "      <td>906000000000000000</td>\n",
              "      <td>10_GOP</td>\n",
              "      <td>19,000 RESPECTING our National Anthem! #StandF...</td>\n",
              "      <td>Unknown</td>\n",
              "      <td>English</td>\n",
              "      <td>10/1/2017 2:13</td>\n",
              "      <td>10/1/2017 2:13</td>\n",
              "      <td>1050</td>\n",
              "      <td>9645</td>\n",
              "      <td>246</td>\n",
              "      <td>RETWEET</td>\n",
              "      <td>Right</td>\n",
              "      <td>1</td>\n",
              "      <td>RightTroll</td>\n",
              "      <td>0</td>\n",
              "      <td>905874659358453760</td>\n",
              "      <td>914312219952861184</td>\n",
              "      <td>http://twitter.com/905874659358453760/statuses...</td>\n",
              "      <td>https://twitter.com/realDonaldTrump/status/914...</td>\n",
              "      <td>NaN</td>\n",
              "      <td>NaN</td>\n",
              "    </tr>\n",
              "  </tbody>\n",
              "</table>\n",
              "</div>"
            ],
            "text/plain": [
              "   external_author_id  author  ... tco2_step1 tco3_step1\n",
              "0  906000000000000000  10_GOP  ...        NaN        NaN\n",
              "1  906000000000000000  10_GOP  ...        NaN        NaN\n",
              "2  906000000000000000  10_GOP  ...        NaN        NaN\n",
              "3  906000000000000000  10_GOP  ...        NaN        NaN\n",
              "4  906000000000000000  10_GOP  ...        NaN        NaN\n",
              "\n",
              "[5 rows x 21 columns]"
            ]
          },
          "metadata": {
            "tags": []
          },
          "execution_count": 64
        }
      ]
    },
    {
      "cell_type": "code",
      "metadata": {
        "id": "89dB29MmqFpc",
        "colab_type": "code",
        "colab": {
          "base_uri": "https://localhost:8080/",
          "height": 34
        },
        "outputId": "e1e090c1-1327-4997-b2ae-e32d86a7b4a7"
      },
      "source": [
        "test_1 = pd.concat([test,test])\n",
        "test.shape"
      ],
      "execution_count": 65,
      "outputs": [
        {
          "output_type": "execute_result",
          "data": {
            "text/plain": [
              "(243891, 21)"
            ]
          },
          "metadata": {
            "tags": []
          },
          "execution_count": 65
        }
      ]
    },
    {
      "cell_type": "code",
      "metadata": {
        "id": "3wKTCm03oEsS",
        "colab_type": "code",
        "colab": {
          "base_uri": "https://localhost:8080/",
          "height": 649
        },
        "outputId": "6367c33d-999a-4c8b-aa68-73ceb100157a"
      },
      "source": [
        "url_name = 'https://raw.githubusercontent.com/fivethirtyeight/russian-troll-tweets/master/IRAhandle_tweets_{}.csv'\n",
        "df = pd.concat([pd.read_csv(url_name.format(i)) for i in range(1, 14)])\n",
        "       \n",
        "print(df.shape)\n",
        "df.head()"
      ],
      "execution_count": 66,
      "outputs": [
        {
          "output_type": "stream",
          "text": [
            "/usr/local/lib/python3.6/dist-packages/IPython/core/interactiveshell.py:2822: DtypeWarning: Columns (0,15,20) have mixed types. Specify dtype option on import or set low_memory=False.\n",
            "  if self.run_code(code, result):\n",
            "/usr/local/lib/python3.6/dist-packages/IPython/core/interactiveshell.py:2822: DtypeWarning: Columns (20) have mixed types. Specify dtype option on import or set low_memory=False.\n",
            "  if self.run_code(code, result):\n",
            "/usr/local/lib/python3.6/dist-packages/IPython/core/interactiveshell.py:2822: DtypeWarning: Columns (10,20) have mixed types. Specify dtype option on import or set low_memory=False.\n",
            "  if self.run_code(code, result):\n"
          ],
          "name": "stderr"
        },
        {
          "output_type": "stream",
          "text": [
            "(2946207, 21)\n"
          ],
          "name": "stdout"
        },
        {
          "output_type": "execute_result",
          "data": {
            "text/html": [
              "<div>\n",
              "<style scoped>\n",
              "    .dataframe tbody tr th:only-of-type {\n",
              "        vertical-align: middle;\n",
              "    }\n",
              "\n",
              "    .dataframe tbody tr th {\n",
              "        vertical-align: top;\n",
              "    }\n",
              "\n",
              "    .dataframe thead th {\n",
              "        text-align: right;\n",
              "    }\n",
              "</style>\n",
              "<table border=\"1\" class=\"dataframe\">\n",
              "  <thead>\n",
              "    <tr style=\"text-align: right;\">\n",
              "      <th></th>\n",
              "      <th>external_author_id</th>\n",
              "      <th>author</th>\n",
              "      <th>content</th>\n",
              "      <th>region</th>\n",
              "      <th>language</th>\n",
              "      <th>publish_date</th>\n",
              "      <th>harvested_date</th>\n",
              "      <th>following</th>\n",
              "      <th>followers</th>\n",
              "      <th>updates</th>\n",
              "      <th>post_type</th>\n",
              "      <th>account_type</th>\n",
              "      <th>retweet</th>\n",
              "      <th>account_category</th>\n",
              "      <th>new_june_2018</th>\n",
              "      <th>alt_external_id</th>\n",
              "      <th>tweet_id</th>\n",
              "      <th>article_url</th>\n",
              "      <th>tco1_step1</th>\n",
              "      <th>tco2_step1</th>\n",
              "      <th>tco3_step1</th>\n",
              "    </tr>\n",
              "  </thead>\n",
              "  <tbody>\n",
              "    <tr>\n",
              "      <th>0</th>\n",
              "      <td>906000000000000000</td>\n",
              "      <td>10_GOP</td>\n",
              "      <td>\"We have a sitting Democrat US Senator on tria...</td>\n",
              "      <td>Unknown</td>\n",
              "      <td>English</td>\n",
              "      <td>10/1/2017 19:58</td>\n",
              "      <td>10/1/2017 19:59</td>\n",
              "      <td>1052</td>\n",
              "      <td>9636</td>\n",
              "      <td>253</td>\n",
              "      <td>NaN</td>\n",
              "      <td>Right</td>\n",
              "      <td>0</td>\n",
              "      <td>RightTroll</td>\n",
              "      <td>0</td>\n",
              "      <td>905874659358453760</td>\n",
              "      <td>914580356430536707</td>\n",
              "      <td>http://twitter.com/905874659358453760/statuses...</td>\n",
              "      <td>https://twitter.com/10_gop/status/914580356430...</td>\n",
              "      <td>NaN</td>\n",
              "      <td>NaN</td>\n",
              "    </tr>\n",
              "    <tr>\n",
              "      <th>1</th>\n",
              "      <td>906000000000000000</td>\n",
              "      <td>10_GOP</td>\n",
              "      <td>Marshawn Lynch arrives to game in anti-Trump s...</td>\n",
              "      <td>Unknown</td>\n",
              "      <td>English</td>\n",
              "      <td>10/1/2017 22:43</td>\n",
              "      <td>10/1/2017 22:43</td>\n",
              "      <td>1054</td>\n",
              "      <td>9637</td>\n",
              "      <td>254</td>\n",
              "      <td>NaN</td>\n",
              "      <td>Right</td>\n",
              "      <td>0</td>\n",
              "      <td>RightTroll</td>\n",
              "      <td>0</td>\n",
              "      <td>905874659358453760</td>\n",
              "      <td>914621840496189440</td>\n",
              "      <td>http://twitter.com/905874659358453760/statuses...</td>\n",
              "      <td>https://twitter.com/damienwoody/status/9145685...</td>\n",
              "      <td>NaN</td>\n",
              "      <td>NaN</td>\n",
              "    </tr>\n",
              "    <tr>\n",
              "      <th>2</th>\n",
              "      <td>906000000000000000</td>\n",
              "      <td>10_GOP</td>\n",
              "      <td>Daughter of fallen Navy Sailor delivers powerf...</td>\n",
              "      <td>Unknown</td>\n",
              "      <td>English</td>\n",
              "      <td>10/1/2017 22:50</td>\n",
              "      <td>10/1/2017 22:51</td>\n",
              "      <td>1054</td>\n",
              "      <td>9637</td>\n",
              "      <td>255</td>\n",
              "      <td>RETWEET</td>\n",
              "      <td>Right</td>\n",
              "      <td>1</td>\n",
              "      <td>RightTroll</td>\n",
              "      <td>0</td>\n",
              "      <td>905874659358453760</td>\n",
              "      <td>914623490375979008</td>\n",
              "      <td>http://twitter.com/905874659358453760/statuses...</td>\n",
              "      <td>https://twitter.com/10_gop/status/913231923715...</td>\n",
              "      <td>NaN</td>\n",
              "      <td>NaN</td>\n",
              "    </tr>\n",
              "    <tr>\n",
              "      <th>3</th>\n",
              "      <td>906000000000000000</td>\n",
              "      <td>10_GOP</td>\n",
              "      <td>JUST IN: President Trump dedicates Presidents ...</td>\n",
              "      <td>Unknown</td>\n",
              "      <td>English</td>\n",
              "      <td>10/1/2017 23:52</td>\n",
              "      <td>10/1/2017 23:52</td>\n",
              "      <td>1062</td>\n",
              "      <td>9642</td>\n",
              "      <td>256</td>\n",
              "      <td>NaN</td>\n",
              "      <td>Right</td>\n",
              "      <td>0</td>\n",
              "      <td>RightTroll</td>\n",
              "      <td>0</td>\n",
              "      <td>905874659358453760</td>\n",
              "      <td>914639143690555392</td>\n",
              "      <td>http://twitter.com/905874659358453760/statuses...</td>\n",
              "      <td>https://twitter.com/10_gop/status/914639143690...</td>\n",
              "      <td>NaN</td>\n",
              "      <td>NaN</td>\n",
              "    </tr>\n",
              "    <tr>\n",
              "      <th>4</th>\n",
              "      <td>906000000000000000</td>\n",
              "      <td>10_GOP</td>\n",
              "      <td>19,000 RESPECTING our National Anthem! #StandF...</td>\n",
              "      <td>Unknown</td>\n",
              "      <td>English</td>\n",
              "      <td>10/1/2017 2:13</td>\n",
              "      <td>10/1/2017 2:13</td>\n",
              "      <td>1050</td>\n",
              "      <td>9645</td>\n",
              "      <td>246</td>\n",
              "      <td>RETWEET</td>\n",
              "      <td>Right</td>\n",
              "      <td>1</td>\n",
              "      <td>RightTroll</td>\n",
              "      <td>0</td>\n",
              "      <td>905874659358453760</td>\n",
              "      <td>914312219952861184</td>\n",
              "      <td>http://twitter.com/905874659358453760/statuses...</td>\n",
              "      <td>https://twitter.com/realDonaldTrump/status/914...</td>\n",
              "      <td>NaN</td>\n",
              "      <td>NaN</td>\n",
              "    </tr>\n",
              "  </tbody>\n",
              "</table>\n",
              "</div>"
            ],
            "text/plain": [
              "   external_author_id  author  ... tco2_step1 tco3_step1\n",
              "0  906000000000000000  10_GOP  ...        NaN        NaN\n",
              "1  906000000000000000  10_GOP  ...        NaN        NaN\n",
              "2  906000000000000000  10_GOP  ...        NaN        NaN\n",
              "3  906000000000000000  10_GOP  ...        NaN        NaN\n",
              "4  906000000000000000  10_GOP  ...        NaN        NaN\n",
              "\n",
              "[5 rows x 21 columns]"
            ]
          },
          "metadata": {
            "tags": []
          },
          "execution_count": 66
        }
      ]
    },
    {
      "cell_type": "markdown",
      "metadata": {
        "id": "Hg5TVjbEvIWM",
        "colab_type": "text"
      },
      "source": [
        "### Fivethirtyeight Readme"
      ]
    },
    {
      "cell_type": "markdown",
      "metadata": {
        "id": "r_Ewa0tqu0bs",
        "colab_type": "text"
      },
      "source": [
        "index | Header | Definition\n",
        "---|---|---------\n",
        "1 | `external_author_id` | An author account ID from Twitter \n",
        "2 | `author` | The handle sending the tweet\n",
        "3 | `content` | The text of the tweet\n",
        "4 | `region` | A region classification, as [determined by Social Studio](https://help.salesforce.com/articleView?id=000199367&type=1)\n",
        "5 | `language` | The language of the tweet\n",
        "6 | `publish_date` | The date and time the tweet was sent\n",
        "7 | `harvested_date` | The date and time the tweet was collected by Social Studio\n",
        "8 | `following` | The number of accounts the handle was following at the time of the tweet\n",
        "9 | `followers` | The number of followers the handle had at the time of the tweet\n",
        "10 | `updates` | The number of “update actions” on the account that authored the tweet, including tweets, retweets and likes\n",
        "11 | `post_type` | Indicates if the tweet was a retweet or a quote-tweet\n",
        "12 | `account_type` | Specific account theme, as coded by Linvill and Warren\n",
        "13 | `retweet` | A binary indicator of whether or not the tweet is a retweet\n",
        "14 | `account_category` | General account theme, as coded by Linvill and Warren\n",
        "15 | `new_june_2018` | A binary indicator of whether the handle was newly listed in June 2018\n",
        "16 | `alt_external_id` | Reconstruction of author account ID from Twitter, derived from `article_url` variable and the first list provided to Congress\n",
        "17 | `tweet_id` | Unique id assigned by twitter to each status update, derived from `article_url`\n",
        "18 | `article_url` | Link to original tweet. Now redirects to \"Account Suspended\" page\n",
        "19 | `tco1_step1` | First redirect for the first http(s)://t.co/ link in a tweet, if it exists\n",
        "20 | `tco2_step1` | First redirect for the second http(s)://t.co/ link in a tweet, if it exists\n",
        "21 | `tco3_step1` | First redirect for the third http(s)://t.co/ link in a tweet, if it exists"
      ]
    },
    {
      "cell_type": "code",
      "metadata": {
        "id": "oXih1TMIvD_B",
        "colab_type": "code",
        "colab": {
          "base_uri": "https://localhost:8080/",
          "height": 391
        },
        "outputId": "1e0d6317-ed27-4e3a-a793-5cd020b4d384"
      },
      "source": [
        "df.dtypes"
      ],
      "execution_count": 67,
      "outputs": [
        {
          "output_type": "execute_result",
          "data": {
            "text/plain": [
              "external_author_id    object\n",
              "author                object\n",
              "content               object\n",
              "region                object\n",
              "language              object\n",
              "publish_date          object\n",
              "harvested_date        object\n",
              "following              int64\n",
              "followers              int64\n",
              "updates                int64\n",
              "post_type             object\n",
              "account_type          object\n",
              "retweet                int64\n",
              "account_category      object\n",
              "new_june_2018          int64\n",
              "alt_external_id       object\n",
              "tweet_id               int64\n",
              "article_url           object\n",
              "tco1_step1            object\n",
              "tco2_step1            object\n",
              "tco3_step1            object\n",
              "dtype: object"
            ]
          },
          "metadata": {
            "tags": []
          },
          "execution_count": 67
        }
      ]
    },
    {
      "cell_type": "code",
      "metadata": {
        "id": "O6mbNtKiwo_C",
        "colab_type": "code",
        "colab": {
          "base_uri": "https://localhost:8080/",
          "height": 357
        },
        "outputId": "da6bd842-f966-4138-d88e-699022b4a1bb"
      },
      "source": [
        "df['account_type'].value_counts()"
      ],
      "execution_count": 68,
      "outputs": [
        {
          "output_type": "execute_result",
          "data": {
            "text/plain": [
              "Right         711668\n",
              "Russian       704917\n",
              "local         459220\n",
              "Left          427141\n",
              "Hashtager     241786\n",
              "news          139006\n",
              "Commercial    121904\n",
              "German         91511\n",
              "Italian        15680\n",
              "?              13539\n",
              "Koch           10894\n",
              "Arabic          6228\n",
              "Spanish         1226\n",
              "French          1117\n",
              "ZAPOROSHIA       175\n",
              "Portuguese       118\n",
              "Ebola             71\n",
              "Ukranian           4\n",
              "Uzbek              2\n",
              "Name: account_type, dtype: int64"
            ]
          },
          "metadata": {
            "tags": []
          },
          "execution_count": 68
        }
      ]
    },
    {
      "cell_type": "code",
      "metadata": {
        "id": "zqdRWTPZvWEB",
        "colab_type": "code",
        "colab": {
          "base_uri": "https://localhost:8080/",
          "height": 373
        },
        "outputId": "f9616f85-8e70-4663-fd02-deb89abfa508"
      },
      "source": [
        "df['account_category'].value_counts().plot(kind='bar');"
      ],
      "execution_count": 78,
      "outputs": [
        {
          "output_type": "display_data",
          "data": {
            "image/png": "[encoded data removed]",
            "text/plain": [
              "<Figure size 432x288 with 1 Axes>"
            ]
          },
          "metadata": {
            "tags": []
          }
        }
      ]
    },
    {
      "cell_type": "code",
      "metadata": {
        "id": "a-RhDmbb3bXy",
        "colab_type": "code",
        "colab": {
          "base_uri": "https://localhost:8080/",
          "height": 136
        },
        "outputId": "7df56903-4328-411f-ea9d-5ff8f1ac9a63"
      },
      "source": [
        "df['publish_date'] = pd.to_datetime(df['publish_date'])\n",
        "df['publish_date'].describe()"
      ],
      "execution_count": 83,
      "outputs": [
        {
          "output_type": "execute_result",
          "data": {
            "text/plain": [
              "count                 2946207\n",
              "unique                 896347\n",
              "top       2017-08-15 17:01:00\n",
              "freq                      149\n",
              "first     2012-02-02 00:35:00\n",
              "last      2018-05-30 21:01:00\n",
              "Name: publish_date, dtype: object"
            ]
          },
          "metadata": {
            "tags": []
          },
          "execution_count": 83
        }
      ]
    },
    {
      "cell_type": "code",
      "metadata": {
        "id": "hEN5IuCY5GXH",
        "colab_type": "code",
        "colab": {}
      },
      "source": [
        "df['publish_day'] = df['publish_date'].dt.date"
      ],
      "execution_count": 0,
      "outputs": []
    },
    {
      "cell_type": "code",
      "metadata": {
        "id": "vMH3TuoqAng2",
        "colab_type": "code",
        "colab": {
          "base_uri": "https://localhost:8080/",
          "height": 304
        },
        "outputId": "e7eb1743-cf93-414f-e004-5e119c848212"
      },
      "source": [
        "df.groupby('publish_day')['account_category'].value_counts().unstack().plot();\n"
      ],
      "execution_count": 102,
      "outputs": [
        {
          "output_type": "display_data",
          "data": {
            "image/png": "[encoded data removed]",
            "text/plain": [
              "<Figure size 432x288 with 1 Axes>"
            ]
          },
          "metadata": {
            "tags": []
          }
        }
      ]
    },
    {
      "cell_type": "code",
      "metadata": {
        "id": "E3U0TvXZFCX2",
        "colab_type": "code",
        "colab": {
          "base_uri": "https://localhost:8080/",
          "height": 136
        },
        "outputId": "7438b696-1b77-40c4-90d4-3473601a61da"
      },
      "source": [
        "new_df = df.groupby('publish_day')['account_category'].value_counts()\n",
        "print(new_df.head())"
      ],
      "execution_count": 128,
      "outputs": [
        {
          "output_type": "stream",
          "text": [
            "publish_day  account_category\n",
            "2012-02-02   NonEnglish          4\n",
            "2012-02-04   NonEnglish          1\n",
            "2012-02-05   NonEnglish          1\n",
            "2012-02-06   NonEnglish          2\n",
            "             LeftTroll           1\n",
            "Name: account_category, dtype: int64\n"
          ],
          "name": "stdout"
        }
      ]
    },
    {
      "cell_type": "code",
      "metadata": {
        "id": "4DnQEF_kGzt0",
        "colab_type": "code",
        "colab": {
          "base_uri": "https://localhost:8080/",
          "height": 204
        },
        "outputId": "007b2e7f-7459-41e4-f821-04899204633a"
      },
      "source": [
        "new_df = new_df.reset_index()\n",
        "new_df.head()"
      ],
      "execution_count": 130,
      "outputs": [
        {
          "output_type": "execute_result",
          "data": {
            "text/html": [
              "<div>\n",
              "<style scoped>\n",
              "    .dataframe tbody tr th:only-of-type {\n",
              "        vertical-align: middle;\n",
              "    }\n",
              "\n",
              "    .dataframe tbody tr th {\n",
              "        vertical-align: top;\n",
              "    }\n",
              "\n",
              "    .dataframe thead th {\n",
              "        text-align: right;\n",
              "    }\n",
              "</style>\n",
              "<table border=\"1\" class=\"dataframe\">\n",
              "  <thead>\n",
              "    <tr style=\"text-align: right;\">\n",
              "      <th></th>\n",
              "      <th>publish_day</th>\n",
              "      <th>account_category</th>\n",
              "      <th>0</th>\n",
              "    </tr>\n",
              "  </thead>\n",
              "  <tbody>\n",
              "    <tr>\n",
              "      <th>0</th>\n",
              "      <td>2012-02-02</td>\n",
              "      <td>NonEnglish</td>\n",
              "      <td>4</td>\n",
              "    </tr>\n",
              "    <tr>\n",
              "      <th>1</th>\n",
              "      <td>2012-02-04</td>\n",
              "      <td>NonEnglish</td>\n",
              "      <td>1</td>\n",
              "    </tr>\n",
              "    <tr>\n",
              "      <th>2</th>\n",
              "      <td>2012-02-05</td>\n",
              "      <td>NonEnglish</td>\n",
              "      <td>1</td>\n",
              "    </tr>\n",
              "    <tr>\n",
              "      <th>3</th>\n",
              "      <td>2012-02-06</td>\n",
              "      <td>NonEnglish</td>\n",
              "      <td>2</td>\n",
              "    </tr>\n",
              "    <tr>\n",
              "      <th>4</th>\n",
              "      <td>2012-02-06</td>\n",
              "      <td>LeftTroll</td>\n",
              "      <td>1</td>\n",
              "    </tr>\n",
              "  </tbody>\n",
              "</table>\n",
              "</div>"
            ],
            "text/plain": [
              "  publish_day account_category  0\n",
              "0  2012-02-02       NonEnglish  4\n",
              "1  2012-02-04       NonEnglish  1\n",
              "2  2012-02-05       NonEnglish  1\n",
              "3  2012-02-06       NonEnglish  2\n",
              "4  2012-02-06        LeftTroll  1"
            ]
          },
          "metadata": {
            "tags": []
          },
          "execution_count": 130
        }
      ]
    },
    {
      "cell_type": "code",
      "metadata": {
        "id": "ASvVL8QZGQw8",
        "colab_type": "code",
        "colab": {
          "base_uri": "https://localhost:8080/",
          "height": 204
        },
        "outputId": "d9cee28a-a34c-4c9c-dc56-f4092809a2c5"
      },
      "source": [
        "new_df = new_df.rename(columns= {'publish_day': 'date', 'account_category': 'type', 0 : 'value'})\n",
        "new_df.head()"
      ],
      "execution_count": 131,
      "outputs": [
        {
          "output_type": "execute_result",
          "data": {
            "text/html": [
              "<div>\n",
              "<style scoped>\n",
              "    .dataframe tbody tr th:only-of-type {\n",
              "        vertical-align: middle;\n",
              "    }\n",
              "\n",
              "    .dataframe tbody tr th {\n",
              "        vertical-align: top;\n",
              "    }\n",
              "\n",
              "    .dataframe thead th {\n",
              "        text-align: right;\n",
              "    }\n",
              "</style>\n",
              "<table border=\"1\" class=\"dataframe\">\n",
              "  <thead>\n",
              "    <tr style=\"text-align: right;\">\n",
              "      <th></th>\n",
              "      <th>date</th>\n",
              "      <th>type</th>\n",
              "      <th>value</th>\n",
              "    </tr>\n",
              "  </thead>\n",
              "  <tbody>\n",
              "    <tr>\n",
              "      <th>0</th>\n",
              "      <td>2012-02-02</td>\n",
              "      <td>NonEnglish</td>\n",
              "      <td>4</td>\n",
              "    </tr>\n",
              "    <tr>\n",
              "      <th>1</th>\n",
              "      <td>2012-02-04</td>\n",
              "      <td>NonEnglish</td>\n",
              "      <td>1</td>\n",
              "    </tr>\n",
              "    <tr>\n",
              "      <th>2</th>\n",
              "      <td>2012-02-05</td>\n",
              "      <td>NonEnglish</td>\n",
              "      <td>1</td>\n",
              "    </tr>\n",
              "    <tr>\n",
              "      <th>3</th>\n",
              "      <td>2012-02-06</td>\n",
              "      <td>NonEnglish</td>\n",
              "      <td>2</td>\n",
              "    </tr>\n",
              "    <tr>\n",
              "      <th>4</th>\n",
              "      <td>2012-02-06</td>\n",
              "      <td>LeftTroll</td>\n",
              "      <td>1</td>\n",
              "    </tr>\n",
              "  </tbody>\n",
              "</table>\n",
              "</div>"
            ],
            "text/plain": [
              "         date        type  value\n",
              "0  2012-02-02  NonEnglish      4\n",
              "1  2012-02-04  NonEnglish      1\n",
              "2  2012-02-05  NonEnglish      1\n",
              "3  2012-02-06  NonEnglish      2\n",
              "4  2012-02-06   LeftTroll      1"
            ]
          },
          "metadata": {
            "tags": []
          },
          "execution_count": 131
        }
      ]
    },
    {
      "cell_type": "code",
      "metadata": {
        "id": "AAHsP9f1No6C",
        "colab_type": "code",
        "colab": {
          "base_uri": "https://localhost:8080/",
          "height": 306
        },
        "outputId": "840e270e-e9e8-415a-b753-848d48e30a37"
      },
      "source": [
        "from matplotlib import pyplot as plt\n",
        "from matplotlib import dates\n",
        "from datetime import datetime\n",
        "import sys\n",
        "\n"
      ],
      "execution_count": 120,
      "outputs": [
        {
          "output_type": "error",
          "ename": "AttributeError",
          "evalue": "ignored",
          "traceback": [
            "\u001b[0;31m---------------------------------------------------------------------------\u001b[0m",
            "\u001b[0;31mAttributeError\u001b[0m                            Traceback (most recent call last)",
            "\u001b[0;32m<ipython-input-120-f70e1b97de9a>\u001b[0m in \u001b[0;36m<module>\u001b[0;34m()\u001b[0m\n\u001b[0;32m----> 1\u001b[0;31m \u001b[0mnew_df\u001b[0m\u001b[0;34m[\u001b[0m\u001b[0;34m'month'\u001b[0m\u001b[0;34m]\u001b[0m \u001b[0;34m=\u001b[0m \u001b[0mnew_df\u001b[0m\u001b[0;34m[\u001b[0m\u001b[0;34m'date'\u001b[0m\u001b[0;34m]\u001b[0m\u001b[0;34m.\u001b[0m\u001b[0mdt\u001b[0m\u001b[0;34m.\u001b[0m\u001b[0mmonth\u001b[0m\u001b[0;34m\u001b[0m\u001b[0;34m\u001b[0m\u001b[0m\n\u001b[0m\u001b[1;32m      2\u001b[0m \u001b[0mnew_df\u001b[0m\u001b[0;34m.\u001b[0m\u001b[0mhead\u001b[0m\u001b[0;34m(\u001b[0m\u001b[0;34m)\u001b[0m\u001b[0;34m\u001b[0m\u001b[0;34m\u001b[0m\u001b[0m\n",
            "\u001b[0;32m/usr/local/lib/python3.6/dist-packages/pandas/core/generic.py\u001b[0m in \u001b[0;36m__getattr__\u001b[0;34m(self, name)\u001b[0m\n\u001b[1;32m   5061\u001b[0m         if (name in self._internal_names_set or name in self._metadata or\n\u001b[1;32m   5062\u001b[0m                 name in self._accessors):\n\u001b[0;32m-> 5063\u001b[0;31m             \u001b[0;32mreturn\u001b[0m \u001b[0mobject\u001b[0m\u001b[0;34m.\u001b[0m\u001b[0m__getattribute__\u001b[0m\u001b[0;34m(\u001b[0m\u001b[0mself\u001b[0m\u001b[0;34m,\u001b[0m \u001b[0mname\u001b[0m\u001b[0;34m)\u001b[0m\u001b[0;34m\u001b[0m\u001b[0;34m\u001b[0m\u001b[0m\n\u001b[0m\u001b[1;32m   5064\u001b[0m         \u001b[0;32melse\u001b[0m\u001b[0;34m:\u001b[0m\u001b[0;34m\u001b[0m\u001b[0;34m\u001b[0m\u001b[0m\n\u001b[1;32m   5065\u001b[0m             \u001b[0;32mif\u001b[0m \u001b[0mself\u001b[0m\u001b[0;34m.\u001b[0m\u001b[0m_info_axis\u001b[0m\u001b[0;34m.\u001b[0m\u001b[0m_can_hold_identifiers_and_holds_name\u001b[0m\u001b[0;34m(\u001b[0m\u001b[0mname\u001b[0m\u001b[0;34m)\u001b[0m\u001b[0;34m:\u001b[0m\u001b[0;34m\u001b[0m\u001b[0;34m\u001b[0m\u001b[0m\n",
            "\u001b[0;32m/usr/local/lib/python3.6/dist-packages/pandas/core/accessor.py\u001b[0m in \u001b[0;36m__get__\u001b[0;34m(self, obj, cls)\u001b[0m\n\u001b[1;32m    169\u001b[0m             \u001b[0;31m# we're accessing the attribute of the class, i.e., Dataset.geo\u001b[0m\u001b[0;34m\u001b[0m\u001b[0;34m\u001b[0m\u001b[0;34m\u001b[0m\u001b[0m\n\u001b[1;32m    170\u001b[0m             \u001b[0;32mreturn\u001b[0m \u001b[0mself\u001b[0m\u001b[0;34m.\u001b[0m\u001b[0m_accessor\u001b[0m\u001b[0;34m\u001b[0m\u001b[0;34m\u001b[0m\u001b[0m\n\u001b[0;32m--> 171\u001b[0;31m         \u001b[0maccessor_obj\u001b[0m \u001b[0;34m=\u001b[0m \u001b[0mself\u001b[0m\u001b[0;34m.\u001b[0m\u001b[0m_accessor\u001b[0m\u001b[0;34m(\u001b[0m\u001b[0mobj\u001b[0m\u001b[0;34m)\u001b[0m\u001b[0;34m\u001b[0m\u001b[0;34m\u001b[0m\u001b[0m\n\u001b[0m\u001b[1;32m    172\u001b[0m         \u001b[0;31m# Replace the property with the accessor object. Inspired by:\u001b[0m\u001b[0;34m\u001b[0m\u001b[0;34m\u001b[0m\u001b[0;34m\u001b[0m\u001b[0m\n\u001b[1;32m    173\u001b[0m         \u001b[0;31m# http://www.pydanny.com/cached-property.html\u001b[0m\u001b[0;34m\u001b[0m\u001b[0;34m\u001b[0m\u001b[0;34m\u001b[0m\u001b[0m\n",
            "\u001b[0;32m/usr/local/lib/python3.6/dist-packages/pandas/core/indexes/accessors.py\u001b[0m in \u001b[0;36m__new__\u001b[0;34m(cls, data)\u001b[0m\n\u001b[1;32m    322\u001b[0m             \u001b[0;32mpass\u001b[0m  \u001b[0;31m# we raise an attribute error anyway\u001b[0m\u001b[0;34m\u001b[0m\u001b[0;34m\u001b[0m\u001b[0m\n\u001b[1;32m    323\u001b[0m \u001b[0;34m\u001b[0m\u001b[0m\n\u001b[0;32m--> 324\u001b[0;31m         raise AttributeError(\"Can only use .dt accessor with datetimelike \"\n\u001b[0m\u001b[1;32m    325\u001b[0m                              \"values\")\n",
            "\u001b[0;31mAttributeError\u001b[0m: Can only use .dt accessor with datetimelike values"
          ]
        }
      ]
    },
    {
      "cell_type": "code",
      "metadata": {
        "id": "M0j4cjQdxVfz",
        "colab_type": "code",
        "colab": {
          "base_uri": "https://localhost:8080/",
          "height": 663
        },
        "outputId": "3683270c-e27f-4dac-e523-43ec50b62dde"
      },
      "source": [
        "import seaborn as sns\n",
        "\n",
        "sns.set_style('fivethirtyeight')\n",
        "sns.set_context(\"poster\")\n",
        "sns.stripplot(x=\"date\", y=\"value\", data=new_df)\n",
        "sns.plotting_context()"
      ],
      "execution_count": 119,
      "outputs": [
        {
          "output_type": "execute_result",
          "data": {
            "text/plain": [
              "{'axes.labelsize': 24.0,\n",
              " 'axes.linewidth': 2.5,\n",
              " 'axes.titlesize': 24.0,\n",
              " 'font.size': 24.0,\n",
              " 'grid.linewidth': 2.0,\n",
              " 'legend.fontsize': 22.0,\n",
              " 'lines.linewidth': 3.0,\n",
              " 'lines.markersize': 12.0,\n",
              " 'patch.linewidth': 2.0,\n",
              " 'xtick.labelsize': 22.0,\n",
              " 'xtick.major.size': 12.0,\n",
              " 'xtick.major.width': 2.5,\n",
              " 'xtick.minor.size': 8.0,\n",
              " 'xtick.minor.width': 2.0,\n",
              " 'ytick.labelsize': 22.0,\n",
              " 'ytick.major.size': 12.0,\n",
              " 'ytick.major.width': 2.5,\n",
              " 'ytick.minor.size': 8.0,\n",
              " 'ytick.minor.width': 2.0}"
            ]
          },
          "metadata": {
            "tags": []
          },
          "execution_count": 119
        },
        {
          "output_type": "display_data",
          "data": {
            "image/png": "[encoded data removed]",
            "text/plain": [
              "<Figure size 432x288 with 1 Axes>"
            ]
          },
          "metadata": {
            "tags": []
          }
        }
      ]
    },
    {
      "cell_type": "code",
      "metadata": {
        "id": "zn16_roBymXS",
        "colab_type": "code",
        "colab": {
          "base_uri": "https://localhost:8080/",
          "height": 340
        },
        "outputId": "b9ba7d10-3848-4829-cf8b-5ade28e57406"
      },
      "source": [
        "ax = sns.barplot(x='date', y='value', data=new_df)\n"
      ],
      "execution_count": 122,
      "outputs": [
        {
          "output_type": "display_data",
          "data": {
            "image/png": "[encoded data removed]",
            "text/plain": [
              "<Figure size 432x288 with 1 Axes>"
            ]
          },
          "metadata": {
            "tags": []
          }
        }
      ]
    },
    {
      "cell_type": "code",
      "metadata": {
        "id": "TCtQMUMmVUJ8",
        "colab_type": "code",
        "colab": {
          "base_uri": "https://localhost:8080/",
          "height": 1000
        },
        "outputId": "e579ae85-59aa-47fb-b14d-faacd259d87f"
      },
      "source": [
        "plt.style.use('fivethirtyeight')\n",
        "\n",
        "g = sns.catplot(x=\"date\", y=\"value\", col=\"type\",\n",
        "                data=new_df, saturation=.5, col_wrap=2, \n",
        "                kind=\"bar\", ci=None, aspect=.6)\n",
        "(g.set_axis_labels(\"\", \"\")\n",
        " .set_xticklabels([\"2016\", \"'17'\", \"'18'\"])\n",
        " .despine(left=True)) "
      ],
      "execution_count": 134,
      "outputs": [
        {
          "output_type": "execute_result",
          "data": {
            "text/plain": [
              "<seaborn.axisgrid.FacetGrid at 0x7f9b9d0952e8>"
            ]
          },
          "metadata": {
            "tags": []
          },
          "execution_count": 134
        },
        {
          "output_type": "display_data",
          "data": {
            "image/png": "[encoded data removed]",
            "text/plain": [
              "<Figure size 432x1440 with 8 Axes>"
            ]
          },
          "metadata": {
            "tags": []
          }
        }
      ]
    }
  ]
}